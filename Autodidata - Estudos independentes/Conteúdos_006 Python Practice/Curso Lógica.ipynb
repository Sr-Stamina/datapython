{
 "cells": [
  {
   "cell_type": "markdown",
   "metadata": {},
   "source": [
    "# Curso Lógica Udemy - Asimov"
   ]
  },
  {
   "cell_type": "code",
   "execution_count": 132,
   "metadata": {},
   "outputs": [
    {
     "name": "stdout",
     "output_type": "stream",
     "text": [
      "7\n",
      "Você precisa comprar 3 batatas!\n"
     ]
    }
   ],
   "source": [
    "import random\n",
    "contagem_batatas = random.randint(0, 10)\n",
    "batatas_receita = 10\n",
    "print(contagem_batatas)\n",
    "x = contagem_batatas\n",
    "y = batatas_receita\n",
    "z = y - x\n",
    "if z != 10:\n",
    "    print(f'Você precisa comprar {z} batatas!')\n",
    "else:\n",
    "    print('Você tem a quantidade correta')"
   ]
  },
  {
   "cell_type": "markdown",
   "metadata": {},
   "source": [
    "### _Em geral Algoritmos tem 3 passos_\n",
    "\n",
    "- Entrada\n",
    "- Processamento\n",
    "- Saída\n",
    "\n",
    "> Ex.: Calcular média das notas de alunos que possuem 4 provas"
   ]
  },
  {
   "cell_type": "code",
   "execution_count": 157,
   "metadata": {},
   "outputs": [
    {
     "ename": "ValueError",
     "evalue": "dictionary update sequence element #0 has length 1; 2 is required",
     "output_type": "error",
     "traceback": [
      "\u001b[1;31m---------------------------------------------------------------------------\u001b[0m",
      "\u001b[1;31mValueError\u001b[0m                                Traceback (most recent call last)",
      "Cell \u001b[1;32mIn[157], line 3\u001b[0m\n\u001b[0;32m      1\u001b[0m lista_provas \u001b[38;5;241m=\u001b[39m {}\n\u001b[0;32m      2\u001b[0m \u001b[38;5;28;01mfor\u001b[39;00m i \u001b[38;5;129;01min\u001b[39;00m \u001b[38;5;28mrange\u001b[39m(\u001b[38;5;241m1\u001b[39m, \u001b[38;5;241m5\u001b[39m):\n\u001b[1;32m----> 3\u001b[0m     \u001b[43mlista_provas\u001b[49m\u001b[38;5;241;43m.\u001b[39;49m\u001b[43mupdate\u001b[49m\u001b[43m(\u001b[49m\u001b[38;5;124;43mf\u001b[39;49m\u001b[38;5;124;43m'\u001b[39;49m\u001b[38;5;124;43mP\u001b[39;49m\u001b[38;5;132;43;01m{\u001b[39;49;00m\u001b[43mi\u001b[49m\u001b[38;5;132;43;01m}\u001b[39;49;00m\u001b[38;5;124;43m'\u001b[39;49m\u001b[43m)\u001b[49m\n\u001b[0;32m      4\u001b[0m \u001b[38;5;28mprint\u001b[39m(lista_provas)\n\u001b[0;32m      8\u001b[0m \u001b[38;5;66;03m#for prova in lista_provas():\u001b[39;00m\n\u001b[0;32m      9\u001b[0m \u001b[38;5;66;03m#    notas.update\u001b[39;00m\n",
      "\u001b[1;31mValueError\u001b[0m: dictionary update sequence element #0 has length 1; 2 is required"
     ]
    }
   ],
   "source": [
    "lista_provas = {}\n",
    "for i in range(1, 5):\n",
    "    lista_provas.update(f'P{i}')\n",
    "print(lista_provas)\n",
    "\n",
    "\n",
    "\n",
    "#for prova in lista_provas():\n",
    "#    notas.update"
   ]
  },
  {
   "cell_type": "code",
   "execution_count": 154,
   "metadata": {},
   "outputs": [
    {
     "data": {
      "text/plain": [
       "['P1', 'P2', 'P3', 'P4']"
      ]
     },
     "execution_count": 154,
     "metadata": {},
     "output_type": "execute_result"
    }
   ],
   "source": []
  },
  {
   "cell_type": "code",
   "execution_count": 160,
   "metadata": {},
   "outputs": [],
   "source": [
    "p1 = ()\n",
    "p2 = ()\n",
    "p3 = ()\n",
    "p4 = (float(input('Qual goi sua nota nesta prova?')))\n"
   ]
  },
  {
   "cell_type": "code",
   "execution_count": 161,
   "metadata": {},
   "outputs": [
    {
     "data": {
      "text/plain": [
       "10.0"
      ]
     },
     "execution_count": 161,
     "metadata": {},
     "output_type": "execute_result"
    }
   ],
   "source": [
    "p4"
   ]
  }
 ],
 "metadata": {
  "kernelspec": {
   "display_name": "Python 3",
   "language": "python",
   "name": "python3"
  },
  "language_info": {
   "codemirror_mode": {
    "name": "ipython",
    "version": 3
   },
   "file_extension": ".py",
   "mimetype": "text/x-python",
   "name": "python",
   "nbconvert_exporter": "python",
   "pygments_lexer": "ipython3",
   "version": "3.12.5"
  }
 },
 "nbformat": 4,
 "nbformat_minor": 2
}
