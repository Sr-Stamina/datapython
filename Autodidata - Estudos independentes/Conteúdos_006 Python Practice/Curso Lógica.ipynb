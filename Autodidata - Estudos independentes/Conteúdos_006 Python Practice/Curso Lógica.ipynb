{
 "cells": [
  {
   "cell_type": "markdown",
   "metadata": {},
   "source": [
    "# Curso Lógica Udemy - Asimov"
   ]
  },
  {
   "cell_type": "code",
   "execution_count": 132,
   "metadata": {},
   "outputs": [
    {
     "name": "stdout",
     "output_type": "stream",
     "text": [
      "7\n",
      "Você precisa comprar 3 batatas!\n"
     ]
    }
   ],
   "source": [
    "import random\n",
    "contagem_batatas = random.randint(0, 10)\n",
    "batatas_receita = 10\n",
    "print(contagem_batatas)\n",
    "x = contagem_batatas\n",
    "y = batatas_receita\n",
    "z = y - x\n",
    "if z != 10:\n",
    "    print(f'Você precisa comprar {z} batatas!')\n",
    "else:\n",
    "    print('Você tem a quantidade correta')"
   ]
  },
  {
   "cell_type": "markdown",
   "metadata": {},
   "source": [
    "### _Em geral Algoritmos tem 3 passos_\n",
    "\n",
    "- Entrada\n",
    "- Processamento\n",
    "- Saída\n",
    "\n",
    "> Ex.: Calcular média das notas de alunos que possuem 4 provas"
   ]
  },
  {
   "cell_type": "code",
   "execution_count": 56,
   "metadata": {},
   "outputs": [],
   "source": [
    "provas = []\n",
    "lista_provas = {}\n",
    "for i in range(1, 5):\n",
    "    lista_provas[f'P{i}'] = 0\n",
    "provas.append(lista_provas)"
   ]
  }
 ],
 "metadata": {
  "kernelspec": {
   "display_name": "Python 3",
   "language": "python",
   "name": "python3"
  },
  "language_info": {
   "codemirror_mode": {
    "name": "ipython",
    "version": 3
   },
   "file_extension": ".py",
   "mimetype": "text/x-python",
   "name": "python",
   "nbconvert_exporter": "python",
   "pygments_lexer": "ipython3",
   "version": "3.12.5"
  }
 },
 "nbformat": 4,
 "nbformat_minor": 2
}
