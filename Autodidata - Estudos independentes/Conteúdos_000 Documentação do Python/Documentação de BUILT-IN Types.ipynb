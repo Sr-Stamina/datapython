{
 "cells": [
  {
   "cell_type": "markdown",
   "metadata": {},
   "source": [
    "# BUILT-IN Types\n",
    "[Documentação dos BUILT-IN Types](https://docs.python.org/3/library/stdtypes.html)"
   ]
  },
  {
   "cell_type": "markdown",
   "metadata": {},
   "source": [
    "> The principal built-in types are:\n",
    "---\n",
    "- numerics\n",
    "- sequences\n",
    "- mappings\n",
    "- classes\n",
    "- instances \n",
    "- exceptions\n",
    "---\n",
    "### Funções Embutidas\n",
    "- Lista de funções embutidas\n",
    "[Documentação de Funções embutidas](https://docs.python.org/pt-br/3/library/functions.html#repr)"
   ]
  },
  {
   "cell_type": "code",
   "execution_count": null,
   "metadata": {},
   "outputs": [],
   "source": []
  }
 ],
 "metadata": {
  "language_info": {
   "name": "python"
  }
 },
 "nbformat": 4,
 "nbformat_minor": 2
}
