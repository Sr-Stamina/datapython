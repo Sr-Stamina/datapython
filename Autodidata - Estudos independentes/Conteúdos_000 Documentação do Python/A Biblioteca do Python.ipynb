{
 "cells": [
  {
   "cell_type": "markdown",
   "metadata": {},
   "source": [
    "# A Biblioteca do Python\n",
    "- A linguagem Python contém uma ampla biblioteca\n",
    "[Bibliotecas Python](https://docs.python.org/pt-br/3/library/index.html)"
   ]
  }
 ],
 "metadata": {
  "language_info": {
   "name": "python"
  }
 },
 "nbformat": 4,
 "nbformat_minor": 2
}
