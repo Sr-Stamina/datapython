{
 "cells": [
  {
   "cell_type": "markdown",
   "metadata": {},
   "source": [
    "# O PEP é a sigla de Python Enhancement Proposals (PEPs) ou em português: Propostas de Aprimoramento do Python\n",
    "\n",
    "- Aqui tem vários conteúdos sobre boas práticas, melhores usos e entre outros.\n",
    "\n",
    "[Site das PEP's](https://peps.python.org/)\n",
    "\n",
    "---"
   ]
  }
 ],
 "metadata": {
  "language_info": {
   "name": "python"
  }
 },
 "nbformat": 4,
 "nbformat_minor": 2
}
