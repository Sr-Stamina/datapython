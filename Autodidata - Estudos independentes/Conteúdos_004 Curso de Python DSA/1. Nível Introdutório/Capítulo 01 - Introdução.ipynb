{
 "cells": [
  {
   "cell_type": "markdown",
   "metadata": {},
   "source": [
    "# Introdução ao curso\n",
    "- Conteúdo Programático\n",
    "- Organização do curso\n",
    "- Certificados\n",
    "- Orientações gerais\n",
    "- Bibliografia recomendada\n"
   ]
  },
  {
   "cell_type": "markdown",
   "metadata": {},
   "source": [
    "---\n",
    "> Bibliografia Recomendada\n",
    "- [Python Programming for Data Analysis Autor: José Unpingco](http://54.243.252.9/engr-1330-webroot/3-Readings/Python-for-Probability-Statistics-And-Machine-Learning.pdf)\n",
    "- Intro to Python for Computer Science and Data Science: Learning to Program with Ai, Big Data and the CloudAutores: Paul Deitel e Harvey Deitel\n",
    "\n",
    "> [Bibliografia do Blog da DSA](https://blog.dsacademy.com.br/categoria/bibliografia/)\n",
    "\n",
    "---"
   ]
  }
 ],
 "metadata": {
  "language_info": {
   "name": "python"
  }
 },
 "nbformat": 4,
 "nbformat_minor": 2
}
