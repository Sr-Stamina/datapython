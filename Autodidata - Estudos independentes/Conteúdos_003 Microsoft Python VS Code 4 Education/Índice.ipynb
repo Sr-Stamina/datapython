{
 "cells": [
  {
   "cell_type": "markdown",
   "metadata": {},
   "source": [
    "# Conteúdos de Python pela Microsoft\n",
    "\n",
    "* [Introduction to Python; By Dr. Cory Bart (Curso de Python dentro do VS Code Web)](https://vscodeedu.com/courses/intro-to-python)\n",
    "* [Começando com Python no VS Code](https://code.visualstudio.com/docs/python/python-tutorial)\n",
    "* [Data Science in VS Code tutorial](https://code.visualstudio.com/docs/datascience/data-science-tutorial)"
   ]
  },
  {
   "cell_type": "code",
   "execution_count": 2,
   "metadata": {},
   "outputs": [
    {
     "name": "stdout",
     "output_type": "stream",
     "text": [
      "Hello, world!\n"
     ]
    }
   ],
   "source": [
    "print('Hello, world!')"
   ]
  }
 ],
 "metadata": {
  "kernelspec": {
   "display_name": "Python 3",
   "language": "python",
   "name": "python3"
  },
  "language_info": {
   "codemirror_mode": {
    "name": "ipython",
    "version": 3
   },
   "file_extension": ".py",
   "mimetype": "text/x-python",
   "name": "python",
   "nbconvert_exporter": "python",
   "pygments_lexer": "ipython3",
   "version": "3.12.1"
  }
 },
 "nbformat": 4,
 "nbformat_minor": 2
}
