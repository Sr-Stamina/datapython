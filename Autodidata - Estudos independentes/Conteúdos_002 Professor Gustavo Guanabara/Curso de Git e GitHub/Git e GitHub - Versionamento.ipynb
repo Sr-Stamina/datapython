{
 "cells": [
  {
   "cell_type": "markdown",
   "metadata": {},
   "source": [
    "# Trabalhar com versões de código | software, ou outras coisas\n",
    "---\n",
    "### -> Como trabalhar com diferentes versões de algo\n",
    "* GIT é um VCS - Version Control Software\n",
    "* Versionamento\n",
    "---\n",
    "##### Dicionário GIT\n",
    "* commit\n",
    "* push\n",
    "* pull\n",
    "\n",
    "> Principais Vantagens\n",
    "- Controle de histórico\n",
    "- Trabalho em equipe\n",
    "- Ramificação do projeto\n",
    "- Segurança\n",
    "- Organização\n"
   ]
  },
  {
   "cell_type": "code",
   "execution_count": 1,
   "metadata": {},
   "outputs": [
    {
     "name": "stdout",
     "output_type": "stream",
     "text": [
      "Versionamento é muito bacana\n"
     ]
    }
   ],
   "source": [
    "print('Versionamento é muito bacana')"
   ]
  }
 ],
 "metadata": {
  "kernelspec": {
   "display_name": "Python 3",
   "language": "python",
   "name": "python3"
  },
  "language_info": {
   "codemirror_mode": {
    "name": "ipython",
    "version": 3
   },
   "file_extension": ".py",
   "mimetype": "text/x-python",
   "name": "python",
   "nbconvert_exporter": "python",
   "pygments_lexer": "ipython3",
   "version": "3.12.1"
  }
 },
 "nbformat": 4,
 "nbformat_minor": 2
}
