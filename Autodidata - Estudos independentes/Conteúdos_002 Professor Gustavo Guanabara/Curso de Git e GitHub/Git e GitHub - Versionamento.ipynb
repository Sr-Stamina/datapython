{
 "cells": [
  {
   "cell_type": "markdown",
   "metadata": {},
   "source": [
    "# Trabalhar com versões de código | software, ou outras coisas\n",
    "---\n",
    "### -> Como trabalhar com diferentes versões de algo\n",
    "* GIT é um VCS - Version Control Software\n",
    "* Versionamento\n",
    "---\n",
    "##### Dicionário GIT\n",
    "* commit\n",
    "* push\n",
    "* pull\n",
    "\n",
    "> Principais Vantagens\n",
    "- Controle de histórico\n",
    "- Trabalho em equipe\n",
    "- Ramificação do projeto\n",
    "- Segurança\n",
    "- Organização\n"
   ]
  },
  {
   "cell_type": "code",
   "execution_count": null,
   "metadata": {},
   "outputs": [],
   "source": []
  }
 ],
 "metadata": {
  "language_info": {
   "name": "python"
  }
 },
 "nbformat": 4,
 "nbformat_minor": 2
}
