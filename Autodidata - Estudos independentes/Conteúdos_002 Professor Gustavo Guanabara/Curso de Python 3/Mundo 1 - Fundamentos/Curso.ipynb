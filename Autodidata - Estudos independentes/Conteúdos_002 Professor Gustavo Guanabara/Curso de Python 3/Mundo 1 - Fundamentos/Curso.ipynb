{
 "cells": [
  {
   "cell_type": "markdown",
   "metadata": {},
   "source": [
    "# Primeiro curso de Python do Prof. Gustavo Guanabara do Curso em Vídeo\n",
    "[Playlist Mundo 1 no Youtube](https://youtube.com/playlist?list=PLHz_AreHm4dlKP6QQCekuIPky1CiwmdI6&si=1pDPqzvaPzMlynHU)\n",
    "\n",
    "---\n",
    "\n",
    "### Tipos Primitivos\n",
    "#### _A maioria das linguagens trabalha com 4 **Tipos Primitivos**_\n",
    "> São eles:\n",
    "* int: 4, 5, 897, 1785\n",
    "* float: 1.234, 15.785, -251.94\n",
    "* bool: True, False\n",
    "* str: João, Joana, Banana, Maçã, Mãe, Pai, Pera, Abacate, Alicate, '7.5', '', Cachorro\n",
    "---"
   ]
  },
  {
   "cell_type": "code",
   "execution_count": 1,
   "metadata": {},
   "outputs": [],
   "source": [
    "tipo1 = int(input('Escreva um número inteiro: '))\n",
    "tipo2 = float(input('Escreva um número decimal: '))\n",
    "tipo3 = bool(input('Escolha entre \"True\" ou \"False\": '))\n",
    "tipo4 = str(input('Escreva uma frase, um nome ou um texto qualquer: '))"
   ]
  },
  {
   "cell_type": "markdown",
   "metadata": {},
   "source": [
    "> A função 'type' mostra o tipo do valor armazenado na variável"
   ]
  },
  {
   "cell_type": "code",
   "execution_count": 2,
   "metadata": {},
   "outputs": [
    {
     "name": "stdout",
     "output_type": "stream",
     "text": [
      "<class 'int'>\n",
      "<class 'float'>\n",
      "<class 'bool'>\n",
      "<class 'str'>\n"
     ]
    }
   ],
   "source": [
    "print(type(tipo1))\n",
    "print(type(tipo2))\n",
    "print(type(tipo3))\n",
    "print(type(tipo4))"
   ]
  },
  {
   "cell_type": "code",
   "execution_count": 7,
   "metadata": {},
   "outputs": [
    {
     "name": "stdout",
     "output_type": "stream",
     "text": [
      "Essa variável contém o valor 5 que é do tipo: <class 'int'>\n",
      "Essa variável armazenou o valor 89.5 que é do tipo: <class 'float'>\n",
      "Essa variável armazenou o valor True que é do tipo: <class 'bool'>\n",
      "Essa variável armazenou o valor Até que enfim um código novo, hehe, o 'Hello World!' é bom, mas não resolve problema! que é do tipo: <class 'str'>\n"
     ]
    }
   ],
   "source": [
    "print(f'Essa variável contém o valor {tipo1} que é do tipo:', type(tipo1))\n",
    "print(f'Essa variável armazenou o valor {tipo2} que é do tipo:', type(tipo2))\n",
    "print(f'Essa variável armazenou o valor {tipo3} que é do tipo:', type(tipo3))\n",
    "print(f'Essa variável armazenou o valor {tipo4} que é do tipo:', type(tipo4))"
   ]
  },
  {
   "cell_type": "markdown",
   "metadata": {},
   "source": [
    "> O tipo precisa ser especificado em Python"
   ]
  },
  {
   "cell_type": "code",
   "execution_count": null,
   "metadata": {},
   "outputs": [],
   "source": [
    "# Nesse exemplo o tipo sempre será "
   ]
  }
 ],
 "metadata": {
  "kernelspec": {
   "display_name": "Python 3",
   "language": "python",
   "name": "python3"
  },
  "language_info": {
   "codemirror_mode": {
    "name": "ipython",
    "version": 3
   },
   "file_extension": ".py",
   "mimetype": "text/x-python",
   "name": "python",
   "nbconvert_exporter": "python",
   "pygments_lexer": "ipython3",
   "version": "3.12.1"
  }
 },
 "nbformat": 4,
 "nbformat_minor": 2
}
