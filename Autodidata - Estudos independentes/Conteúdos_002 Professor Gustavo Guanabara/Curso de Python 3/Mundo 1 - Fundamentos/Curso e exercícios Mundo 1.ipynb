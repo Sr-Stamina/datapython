{
 "cells": [
  {
   "cell_type": "markdown",
   "metadata": {},
   "source": [
    "# Primeiro curso de Python do Prof. Gustavo Guanabara do Curso em Vídeo\n",
    "[Playlist Mundo 1 no Youtube](https://youtube.com/playlist?list=PLHz_AreHm4dlKP6QQCekuIPky1CiwmdI6&si=1pDPqzvaPzMlynHU)\n",
    "\n",
    "---\n",
    "\n",
    "### Tipos Primitivos\n",
    "#### _A maioria das linguagens trabalha com 4 **Tipos Primitivos**_\n",
    "> São eles:\n",
    "* int: 4, 5, 897, 1785\n",
    "* float: 1.234, 15.785, -251.94\n",
    "* bool: True, False\n",
    "* str: João, Joana, Banana, Maçã, Mãe, Pai, Pera, Abacate, Alicate, '7.5', '', Cachorro\n",
    "---"
   ]
  },
  {
   "cell_type": "code",
   "execution_count": 1,
   "metadata": {},
   "outputs": [],
   "source": [
    "tipo1 = int(input('Escreva um número inteiro: '))\n",
    "tipo2 = float(input('Escreva um número decimal: '))\n",
    "tipo3 = bool(input('Escolha entre \"True\" ou \"False\": '))\n",
    "tipo4 = str(input('Escreva uma frase, um nome ou um texto qualquer: '))"
   ]
  },
  {
   "cell_type": "markdown",
   "metadata": {},
   "source": [
    "> A função 'type' mostra o tipo do valor armazenado na variável"
   ]
  },
  {
   "cell_type": "code",
   "execution_count": 2,
   "metadata": {},
   "outputs": [
    {
     "name": "stdout",
     "output_type": "stream",
     "text": [
      "<class 'int'>\n",
      "<class 'float'>\n",
      "<class 'bool'>\n",
      "<class 'str'>\n"
     ]
    }
   ],
   "source": [
    "print(type(tipo1))\n",
    "print(type(tipo2))\n",
    "print(type(tipo3))\n",
    "print(type(tipo4))"
   ]
  },
  {
   "cell_type": "code",
   "execution_count": 7,
   "metadata": {},
   "outputs": [
    {
     "name": "stdout",
     "output_type": "stream",
     "text": [
      "Essa variável contém o valor 5 que é do tipo: <class 'int'>\n",
      "Essa variável armazenou o valor 89.5 que é do tipo: <class 'float'>\n",
      "Essa variável armazenou o valor True que é do tipo: <class 'bool'>\n",
      "Essa variável armazenou o valor Até que enfim um código novo, hehe, o 'Hello World!' é bom, mas não resolve problema! que é do tipo: <class 'str'>\n"
     ]
    }
   ],
   "source": [
    "print(f'Essa variável contém o valor {tipo1} que é do tipo:', type(tipo1))\n",
    "print(f'Essa variável armazenou o valor {tipo2} que é do tipo:', type(tipo2))\n",
    "print(f'Essa variável armazenou o valor {tipo3} que é do tipo:', type(tipo3))\n",
    "print(f'Essa variável armazenou o valor {tipo4} que é do tipo:', type(tipo4))"
   ]
  },
  {
   "cell_type": "markdown",
   "metadata": {},
   "source": [
    "> O tipo precisa ser especificado em Python"
   ]
  },
  {
   "cell_type": "markdown",
   "metadata": {},
   "source": [
    "#### Desafios Aula 6\n",
    "> Desafio 003\n",
    "* Crie um programa que leia dois números e retorne a soma entre eles"
   ]
  },
  {
   "cell_type": "code",
   "execution_count": 1,
   "metadata": {},
   "outputs": [
    {
     "name": "stdout",
     "output_type": "stream",
     "text": [
      "158641.1\n"
     ]
    }
   ],
   "source": [
    "# Desafio 003\n",
    "soma = float(input('Escreva um número:')) + float(input('Escreva outro:'))\n",
    "print(soma)"
   ]
  },
  {
   "cell_type": "markdown",
   "metadata": {},
   "source": [
    "> Desafio 004 \n",
    "* Faça um programa que leia algo pelo teclado e mostre seu tipo primitivo e todas as informações possíveis sobre ele"
   ]
  },
  {
   "cell_type": "code",
   "execution_count": 2,
   "metadata": {},
   "outputs": [],
   "source": [
    "# Desafio 004 | Variável v é \"valor\"\n",
    "v = input('Digite alguma coisa:')"
   ]
  },
  {
   "cell_type": "code",
   "execution_count": 6,
   "metadata": {},
   "outputs": [
    {
     "name": "stdout",
     "output_type": "stream",
     "text": [
      "O tipo do valor é do tipo: <class 'str'>, das características desse valor, é possível afirmar se ele é numérico: True, se é alfanumérico: True\n",
      "Além disso pode-se dizer se é alfabeto: False, se é ASCII: True, se é decimal: True, se é dígito: True, se é identificador: False\n",
      "Também é possível concluir se é letra maiúscula: False, se é minúscula: False, se é \"Printável\": True e se é um Espaço: False\n"
     ]
    }
   ],
   "source": [
    "# Variável \"cv\" é \"características do valor\"\n",
    "cv = (type(v), v.isnumeric(), v.isalnum(), v.isalpha(), v.isascii(), v.isdecimal(), v.isdigit(), v.isidentifier(), v.isupper(), v.islower(), v.isprintable(), v.isspace())\n",
    "print(f'O tipo do valor é do tipo: {cv[0]}, das características desse valor, é possível afirmar se ele é numérico: {cv[1]}, se é alfanumérico: {cv[2]}\\nAlém disso pode-se dizer se é alfabeto: {cv[3]}, se é ASCII: {cv[4]}, se é decimal: {cv[5]}, se é dígito: {cv[6]}, se é identificador: {cv[7]}\\nTambém é possível concluir se é letra maiúscula: {cv[8]}, se é minúscula: {cv[9]}, se é \"Printável\": {cv[10]} e se é um Espaço: {cv[11]}')"
   ]
  },
  {
   "cell_type": "markdown",
   "metadata": {},
   "source": [
    ">Estes médotos usados são métodos de *TESTES DE TIPO*"
   ]
  },
  {
   "cell_type": "markdown",
   "metadata": {},
   "source": [
    "---\n",
    "## Operações Aritméticas"
   ]
  },
  {
   "cell_type": "markdown",
   "metadata": {},
   "source": [
    "- `+` -> Adição\n",
    "- `-` -> Subtração\n",
    "- `*` -> Multiplicação\n",
    "- `/` -> Divisão\n",
    "- `**` -> Potenciação\n",
    "- `//` -> Divisão Inteira\n",
    "- `%` -> Resto da Divisão (ou `Módulo`)"
   ]
  },
  {
   "cell_type": "code",
   "execution_count": 8,
   "metadata": {},
   "outputs": [
    {
     "name": "stdout",
     "output_type": "stream",
     "text": [
      "True True True True True True True\n"
     ]
    }
   ],
   "source": [
    "adicao = 5 + 2 == 7\n",
    "subtracao = 5 - 2 == 3\n",
    "multiplicacao = 5 * 2 == 10\n",
    "divisao = 5 / 2 == 2.5\n",
    "potenciacao = 5 ** 2 == 25\n",
    "divisao_inteira = 5 // 2 == 2\n",
    "resto_da_divisao = 5 % 2 == 1\n",
    "print(adicao, subtracao, multiplicacao, divisao, potenciacao, divisao_inteira, resto_da_divisao)"
   ]
  },
  {
   "cell_type": "markdown",
   "metadata": {},
   "source": [
    "### Exercícios (com `def`):"
   ]
  },
  {
   "cell_type": "code",
   "execution_count": 47,
   "metadata": {},
   "outputs": [
    {
     "data": {
      "text/plain": [
       "75.9"
      ]
     },
     "execution_count": 47,
     "metadata": {},
     "output_type": "execute_result"
    }
   ],
   "source": [
    "def op_adicao(soma = 2 + 2):\n",
    "    return soma\n",
    "op_adicao(soma = 50 + 25.9)"
   ]
  },
  {
   "cell_type": "code",
   "execution_count": 29,
   "metadata": {},
   "outputs": [],
   "source": [
    "notas = []\n",
    "for i in range(15):\n",
    "    notas.append(i)\n",
    "    \n",
    "soma_de_notas_do_aluno = [float(sum(notas))]\n",
    "total_de_disciplinas = [float(len(notas))]"
   ]
  },
  {
   "cell_type": "code",
   "execution_count": 41,
   "metadata": {},
   "outputs": [
    {
     "name": "stdout",
     "output_type": "stream",
     "text": [
      "[0, 1, 2, 3, 4, 5, 6, 7, 8, 9, 10, 11, 12, 13, 14]\n",
      "[105.0]\n",
      "[15.0]\n"
     ]
    }
   ],
   "source": [
    "print(notas)\n",
    "print(soma_de_notas_do_aluno)\n",
    "print(total_de_disciplinas)"
   ]
  },
  {
   "cell_type": "code",
   "execution_count": 46,
   "metadata": {},
   "outputs": [
    {
     "data": {
      "text/plain": [
       "35"
      ]
     },
     "execution_count": 46,
     "metadata": {},
     "output_type": "execute_result"
    }
   ],
   "source": [
    "def op_sutracao(subtracao = 11 - 8):\n",
    "    return subtracao\n",
    "op_sutracao(50 - 15)"
   ]
  },
  {
   "cell_type": "code",
   "execution_count": 45,
   "metadata": {},
   "outputs": [
    {
     "data": {
      "text/plain": [
       "7.0"
      ]
     },
     "execution_count": 45,
     "metadata": {},
     "output_type": "execute_result"
    }
   ],
   "source": [
    "def op_divisao(divisao = soma_de_notas_do_aluno[0] / total_de_disciplinas[0]):\n",
    "    return divisao\n",
    "op_divisao()"
   ]
  },
  {
   "cell_type": "code",
   "execution_count": 44,
   "metadata": {},
   "outputs": [
    {
     "data": {
      "text/plain": [
       "10"
      ]
     },
     "execution_count": 44,
     "metadata": {},
     "output_type": "execute_result"
    }
   ],
   "source": [
    "def op_multiplicacao(multiplicacao = 5 * 2):\n",
    "    return multiplicacao\n",
    "op_multiplicacao()"
   ]
  },
  {
   "cell_type": "code",
   "execution_count": 49,
   "metadata": {},
   "outputs": [
    {
     "data": {
      "text/plain": [
       "25"
      ]
     },
     "execution_count": 49,
     "metadata": {},
     "output_type": "execute_result"
    }
   ],
   "source": [
    "def op_potencia(potencia = 5 ** 2):\n",
    "    return potencia\n",
    "op_potencia()"
   ]
  },
  {
   "cell_type": "code",
   "execution_count": 52,
   "metadata": {},
   "outputs": [
    {
     "data": {
      "text/plain": [
       "2"
      ]
     },
     "execution_count": 52,
     "metadata": {},
     "output_type": "execute_result"
    }
   ],
   "source": [
    "def op_divs_inteira(divinteira = 5 // 2):\n",
    "    return divinteira\n",
    "op_divs_inteira()"
   ]
  },
  {
   "cell_type": "code",
   "execution_count": 51,
   "metadata": {},
   "outputs": [
    {
     "data": {
      "text/plain": [
       "1"
      ]
     },
     "execution_count": 51,
     "metadata": {},
     "output_type": "execute_result"
    }
   ],
   "source": [
    "def op_modulo(resto = 5 % 2):\n",
    "    return resto\n",
    "op_modulo()"
   ]
  },
  {
   "cell_type": "markdown",
   "metadata": {},
   "source": [
    "### Ordem de Precedência - Operadores aritméticos\n",
    "---\n",
    "- 1° `()` -> _Parênteses_\n",
    "- 2° `**` -> _Potências_\n",
    "- 3° `*`, `/`, `//` e `%` -> _Multiplicação_, _Divisão_, _Divisão Inteira_ e _Módulo (ou Resto da Divisão)_\n",
    "- 4° `+` e `-` -> _Adição_ e _Subtração_\n",
    "> Muito importante saber a ordem de precedência"
   ]
  },
  {
   "cell_type": "markdown",
   "metadata": {},
   "source": [
    "#### HUM..."
   ]
  },
  {
   "cell_type": "code",
   "execution_count": null,
   "metadata": {},
   "outputs": [],
   "source": [
    "print('='*232)\n",
    "print('Aqui começa a sua sua')\n",
    "print(\n",
    "    \"\"\"\n",
    " _======_   ||           ||  _===========   |||      ||  ================== ||        || |}======||    _======_\n",
    "||      ||   ||         ||  ||              ||||     ||          ||         ||        || ||       ||  ||      ||\n",
    "||      ||    ||       ||   ||              || ||    ||          ||         ||        || ||      |||  ||      ||\n",
    "||______||     ||     ||    ||======        ||  ||   ||          ||         ||        || ||||||||||   ||______||\n",
    "||------||      ||   ||     ||              ||   ||  ||          ||         ||        || ||    ||     ||------||\n",
    "||      ||       || ||      ||              ||    || ||          ||         ||        || ||     ||    ||      ||\n",
    "||      ||        |||       |[===========   ||     ||||          ||         |[________]| ||      ||   ||      ||\n",
    "\n",
    "\n",
    "|}======||   |}======{|   |}=========||\n",
    "||       ||  ||      ||   ||\n",
    "||      |||  ||      ||   ||\n",
    "||||||||||   ||______||   ||\n",
    "||    ||     ||           ||    +++++||\n",
    "||     ||    ||           ||         ||\n",
    "||      ||   ||           |}=========||      \n",
    "    \"\"\"\n",
    ")"
   ]
  },
  {
   "cell_type": "markdown",
   "metadata": {},
   "source": [
    "---\n",
    "### ***Aprendendo mais sobre o print e formatações***\n",
    "> É possível fazer alinhamentos, pedir ao python para escrever símbolos várias vezes ou printar alguma string várias vezes repetidas, usando:\n",
    "\n",
    "- `print('Abelha\\n' * 8)` irá escrever abelha 8 vezes seguidas em 8 linhas\n",
    "- `print(f'Este valor vai estar centralizado: {valor:^20}')`"
   ]
  },
  {
   "cell_type": "code",
   "execution_count": 6,
   "metadata": {},
   "outputs": [
    {
     "name": "stdout",
     "output_type": "stream",
     "text": [
      "Este valor vai estar centralizado:        valor        \n"
     ]
    }
   ],
   "source": [
    "# print('Abelha\\n' * 8)\n",
    "print(f'Este valor vai estar centralizado: {\"valor\":^20}')\n",
    "# print('+ | + | + | ' * 20)"
   ]
  },
  {
   "cell_type": "markdown",
   "metadata": {},
   "source": [
    "---\n",
    "> Também pode ser usado na chamada de valore armazenados em variáveis ao formatar com:\n",
    "\n",
    "`print(f' {variável:-^10}')`\n",
    "\n",
    "- Neste caso também vai adicionar o símbolo passado `-` antes do `^`\n",
    "\n",
    "- Os símbolos `^`, `<` e `>` permitem controlar o alinhamento do texto e o número passado após o mesmo vai determinar em quantos espaços a ``string`` será escrita"
   ]
  },
  {
   "cell_type": "code",
   "execution_count": 94,
   "metadata": {},
   "outputs": [
    {
     "name": "stdout",
     "output_type": "stream",
     "text": [
      "A soma é: ++++3+++++.\n",
      "A subtração é: ----------1---------.\n",
      "A multiplicação é: *****************************2.\n",
      "E a divisão é: 0.5/////////////////////////////////////.\n"
     ]
    }
   ],
   "source": [
    "sm = 1 + 2\n",
    "sb = 1 - 2\n",
    "m = 1 * 2\n",
    "d = 1 / 2\n",
    "print(f'A soma é: {sm:+^10}.\\nA subtração é: {sb:-^20}.\\nA multiplicação é: {m:*>30}.\\nE a divisão é: {d:/<40}.')"
   ]
  },
  {
   "cell_type": "markdown",
   "metadata": {},
   "source": [
    "#### Exercícios\n",
    "> Desafio 005 - Faça um programa que leia um número inteiro e mostre o seu sucessor e seu antecessor"
   ]
  },
  {
   "cell_type": "code",
   "execution_count": 21,
   "metadata": {},
   "outputs": [
    {
     "name": "stdout",
     "output_type": "stream",
     "text": [
      "O antecessor do número: 19 é 18 e o sucessor é 20\n"
     ]
    }
   ],
   "source": [
    "# Desafio 005\n",
    "def mostra_antec_e_sucess(antc_scss = 10):\n",
    "    print(f'O antecessor do número: {antc_scss} é {(antc_scss)-1} e o sucessor é {(antc_scss + 1)}')\n",
    "mostra_antec_e_sucess(19)"
   ]
  },
  {
   "cell_type": "markdown",
   "metadata": {},
   "source": [
    "> Desafio 006 - Crie um algoritmo que leia um número e mostre o seu dobro, o seu trilpo e a sua raíz quadrada"
   ]
  },
  {
   "cell_type": "code",
   "execution_count": 25,
   "metadata": {},
   "outputs": [
    {
     "name": "stdout",
     "output_type": "stream",
     "text": [
      "O número é:  400 , o seu dobro é:  800 , o seu triplo é: 1200  e a sua raíz quadrada é:   20.00  \n"
     ]
    }
   ],
   "source": [
    "# Desafio 006\n",
    "def dob_trpl_raiz(num = 5):\n",
    "    print(f'O número é: {num:^5}, o seu dobro é: {2 * num:^5}, o seu triplo é: {3 * num:^5} e a sua raíz quadrada é: {num ** (1/2):^9.2f}')\n",
    "dob_trpl_raiz(400)"
   ]
  },
  {
   "cell_type": "markdown",
   "metadata": {},
   "source": [
    "> Desafio 007 - Desenvolva um programa que leia duas notas de um aluno, calcule e mostre sua média"
   ]
  },
  {
   "cell_type": "code",
   "execution_count": 29,
   "metadata": {},
   "outputs": [],
   "source": [
    "# Desafio 007\n",
    "def calcula_media(notas = []):\n",
    "    nome = str(input('Qual o seu nome?'))\n",
    "    print(f'Olá, seja bem vindo {nome.upper()}, aqui você saberá sua situação acadêmica')\n",
    "    while len(notas) < 2:\n",
    "        resposta = float(input('Digite a sua nota nas Disciplinas: '))\n",
    "        notas.append(resposta)\n",
    "    print(f'As notas do aluno foram: {notas[0]:^4} e {notas[1]:^4}, a sua média é {sum(notas) / float(len(notas)):^8}.')\n",
    "    media = sum(notas) / float(len(notas))\n",
    "    if media > 7.5:\n",
    "        print(f'Parabéns, você está aprovado')\n",
    "    elif media > 4.5:\n",
    "        print(f'Você acabou ficando de recuperação, mas estude que poderá conseguir!')\n",
    "    else:\n",
    "        print(f'Lamentamos, mas você está de dependência na Disciplina!')"
   ]
  },
  {
   "cell_type": "code",
   "execution_count": 30,
   "metadata": {},
   "outputs": [
    {
     "name": "stdout",
     "output_type": "stream",
     "text": [
      "Olá, seja bem vindo JHONATHAN, aqui você saberá sua situação acadêmica\n",
      "As notas do aluno foram: 9.0  e 5.0 , a sua média é   7.0   .\n",
      "Você acabou ficando de recuperação, mas estude que poderá conseguir!\n"
     ]
    }
   ],
   "source": [
    "calcula_media()"
   ]
  },
  {
   "cell_type": "markdown",
   "metadata": {},
   "source": [
    "> Desafio 008 - Escreva um programa que leia um valor em metros e o exiba convertido em centímetros e milímetros"
   ]
  },
  {
   "cell_type": "code",
   "execution_count": 16,
   "metadata": {},
   "outputs": [],
   "source": [
    "# Desafio 008\n",
    "\n",
    "def conversor(valor_metros = 1):\n",
    "    valor_metros = float(input('Escreva o valor em metros a ser convertido:'))\n",
    "    valor_centimetros = valor_metros * 100\n",
    "    valor_milimetros = valor_metros * 1000\n",
    "    print(f'Essa distância de {valor_metros} metros equivale a {valor_centimetros} centímetros e a {valor_milimetros} milímetros.')"
   ]
  },
  {
   "cell_type": "code",
   "execution_count": 18,
   "metadata": {},
   "outputs": [
    {
     "name": "stdout",
     "output_type": "stream",
     "text": [
      "Essa distância de 1.73 metros equivale a 173.0 centímetros e a 1730.0 milímetros.\n"
     ]
    }
   ],
   "source": [
    "conversor()"
   ]
  },
  {
   "cell_type": "markdown",
   "metadata": {},
   "source": [
    "> Desafio 009 - Faça um programa que leia um número inteiro qualquer e mostre na tela a sua tabuada."
   ]
  },
  {
   "cell_type": "code",
   "execution_count": 41,
   "metadata": {},
   "outputs": [],
   "source": [
    "# Desafio 009\n",
    "def calcular_tabuada(num = 7):\n",
    "    tabuada = []\n",
    "    for i in range(1, 11):\n",
    "        tabuada.append(i)\n",
    "    print(f\"\"\"A tabuada do {num} é:\\n{num} x {tabuada[0]} = {num * tabuada[0]}\\n{num} x {tabuada[1]} = {num * tabuada[1]}\\n{num} x {tabuada[2]} = {num * tabuada[2]}\\n{num} x {tabuada[3]} = {num * tabuada[3]}\\n{num} x {tabuada[4]} = {num * tabuada[4]}\\n{num} x {tabuada[5]} = {num * tabuada[5]}\\n{num} x {tabuada[6]} = {num * tabuada[6]}\\n{num} x {tabuada[7]} = {num * tabuada[7]}\\n{num} x {tabuada[8]} = {num * tabuada[8]}\\n{num} x {tabuada[9]} = {num * tabuada[9]}\"\"\")\n"
   ]
  },
  {
   "cell_type": "code",
   "execution_count": 46,
   "metadata": {},
   "outputs": [
    {
     "name": "stdout",
     "output_type": "stream",
     "text": [
      "A tabuada do 7 é:\n",
      "7 x 1 = 7\n",
      "7 x 2 = 14\n",
      "7 x 3 = 21\n",
      "7 x 4 = 28\n",
      "7 x 5 = 35\n",
      "7 x 6 = 42\n",
      "7 x 7 = 49\n",
      "7 x 8 = 56\n",
      "7 x 9 = 63\n",
      "7 x 10 = 70\n"
     ]
    }
   ],
   "source": [
    "calcular_tabuada()"
   ]
  },
  {
   "cell_type": "markdown",
   "metadata": {},
   "source": [
    "> Desafio 010 - Crie um programa que leia quanto dinheiro uma pessoa tem na carteira e mostre quantos dólares ela pode comprar"
   ]
  },
  {
   "cell_type": "code",
   "execution_count": 50,
   "metadata": {},
   "outputs": [
    {
     "name": "stdout",
     "output_type": "stream",
     "text": [
      "Você pode comprar US$305.30\n"
     ]
    }
   ],
   "source": [
    "saldo = float(input('Quanto dinheiro você tem na carteira? R$'))\n",
    "print(f'Você pode comprar US${saldo / 5.43:.2f}')"
   ]
  },
  {
   "cell_type": "markdown",
   "metadata": {},
   "source": [
    "> Desafio 011 - Faça um programa que leia a largura e a altura de uma parede em metros, calcule a sua área e a quantidade de tinta necessária para pintá-la, sabendo que cada litro de tinta pinta um área de 2<sup>2</sup> metros (`quadrados`)"
   ]
  },
  {
   "cell_type": "code",
   "execution_count": 82,
   "metadata": {},
   "outputs": [],
   "source": [
    "def estima_tinta(area = [2.9, 11.5]):\n",
    "    area[0] = float(input(f'Qual a largura em metros da parede que você quer pintar?'))\n",
    "    area[1] = float(input(f'Qual a altura em metros da parede que você quer pintar?'))\n",
    "    print(f'A sua parede de {area[1]}m de largura e {area[0]}m de altura possui {(area[0] * area[1])}m quadrados e vai precisar de {(area[0] * area[1]) / 2}L de tinta para ser pintada')"
   ]
  },
  {
   "cell_type": "code",
   "execution_count": 83,
   "metadata": {},
   "outputs": [
    {
     "name": "stdout",
     "output_type": "stream",
     "text": [
      "A sua parede de 150.6m de largura e 15.9m de altura possui 2394.54m quadrados e vai precisar de 1197.27L de tinta para ser pintada\n"
     ]
    }
   ],
   "source": [
    "estima_tinta()"
   ]
  },
  {
   "cell_type": "markdown",
   "metadata": {},
   "source": [
    "> Desafio 012 - Faça um algorítmo que leia o preço de um produto e mostre seu novo preço , com 5% de desconto"
   ]
  },
  {
   "cell_type": "code",
   "execution_count": 88,
   "metadata": {},
   "outputs": [],
   "source": [
    "def mostra_desconto():\n",
    "    print(f'-' * 100, \"\"\"\\nSeja bem vindo a calculadora de desconto\"\"\")\n",
    "    preco_antigo = float(input(f'Qual o preço atual do produto? R$'))\n",
    "    print(f'Este produto que custava R${preco_antigo}, agora com o desconto de 5% é de R${preco_antigo * 0.95:.2f}')"
   ]
  },
  {
   "cell_type": "code",
   "execution_count": 89,
   "metadata": {},
   "outputs": [
    {
     "name": "stdout",
     "output_type": "stream",
     "text": [
      "---------------------------------------------------------------------------------------------------- \n",
      "Seja bem vindo a calculadora de desconto\n",
      "Este produto que custava R$1248.4785, agora com o desconto de 5% é de R$1186.05\n"
     ]
    }
   ],
   "source": [
    "mostra_desconto()"
   ]
  },
  {
   "cell_type": "markdown",
   "metadata": {},
   "source": [
    "> Desafio 013 - Faça um algoritmo que leia o salário de um funcionário e mostre seu novo salário, com 15% de aumento."
   ]
  },
  {
   "cell_type": "markdown",
   "metadata": {},
   "source": [
    "Graduação_Ciência_de_Dados/Disciplina_002 - Estrutura de Dados/Aula 1 - Introdução a Estrutura de Dados em Python.ipynb"
   ]
  }
 ],
 "metadata": {
  "kernelspec": {
   "display_name": "Python 3",
   "language": "python",
   "name": "python3"
  },
  "language_info": {
   "codemirror_mode": {
    "name": "ipython",
    "version": 3
   },
   "file_extension": ".py",
   "mimetype": "text/x-python",
   "name": "python",
   "nbconvert_exporter": "python",
   "pygments_lexer": "ipython3",
   "version": "3.12.5"
  }
 },
 "nbformat": 4,
 "nbformat_minor": 2
}
