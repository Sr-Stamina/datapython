{
 "cells": [
  {
   "cell_type": "markdown",
   "metadata": {},
   "source": [
    "# Introdução ao python em 10 minutos\n",
    "- [Python em 10 minutos](https://youtu.be/4p7axLXXBGU?si=lvAaxovvQUMJUmy5)"
   ]
  },
  {
   "cell_type": "markdown",
   "metadata": {},
   "source": [
    "## Bonificação / Comissão do vendedor"
   ]
  },
  {
   "cell_type": "code",
   "execution_count": 5,
   "metadata": {},
   "outputs": [
    {
     "name": "stdout",
     "output_type": "stream",
     "text": [
      "Você bateu a meta e sua comissão é de: R$3092.8674999999994\n"
     ]
    }
   ],
   "source": [
    "meta = float(input('Qual a meta a ser alcançada?'))\n",
    "\n",
    "# Venda Mínima como: vm\n",
    "vm = float(input('Qual o Valor Mínimo de vendas a ser realizado?'))\n",
    "\n",
    "# Recebe a Venda Realizada como: vr\n",
    "vr = float(input('Insira o resultado de venda deste vendedor:'))\n",
    "\n",
    "# Bonificação como: bnf\n",
    "bnf = (vr * 1.15)\n",
    "\n",
    "# Faltou Para a Meta como: fpm\n",
    "fpm = ((vr / meta)* 100)\n",
    "\n",
    "if vm < vr < meta:\n",
    "    print('Você está dentro da projeção!')\n",
    "elif vr > meta:\n",
    "    print(f'Você bateu a meta e sua comissão é de: R${bnf}')\n",
    "else:\n",
    "    print('Você não bateu a meta desta vez, mas ficou faltando {}%')"
   ]
  },
  {
   "cell_type": "markdown",
   "metadata": {},
   "source": [
    "> Loop Em Python\n",
    "- For\n",
    " Sintaxe: o valor passado dentro do FOR pode receber qualquer nome e é uma variável que vai percorrer a lista, dicionário, etc, e ir armazenando o valor ao longo desse percurso, ele será cada item da lista"
   ]
  },
  {
   "cell_type": "code",
   "execution_count": 4,
   "metadata": {},
   "outputs": [
    {
     "name": "stdout",
     "output_type": "stream",
     "text": [
      "iphone\n",
      "samsung S23\n",
      "notebook\n",
      "dell inspiron\n"
     ]
    }
   ],
   "source": [
    "listaprod = ['iphone', 'samsung S23', 'notebook', 'dell inspiron']\n",
    "for produto in listaprod:\n",
    "    print(produto)"
   ]
  },
  {
   "cell_type": "code",
   "execution_count": 7,
   "metadata": {},
   "outputs": [
    {
     "name": "stdout",
     "output_type": "stream",
     "text": [
      "Everybody Hates Chris!\n",
      "Everybody Hates Chris!\n",
      "Everybody Hates Chris!\n",
      "Everybody Hates Chris!\n",
      "Everybody Hates Chris!\n",
      "Everybody Hates Chris!\n",
      "Everybody Hates Chris!\n"
     ]
    }
   ],
   "source": [
    "for i in range(7):\n",
    "    print('Everybody Hates Chris!')"
   ]
  }
 ],
 "metadata": {
  "kernelspec": {
   "display_name": "Python 3",
   "language": "python",
   "name": "python3"
  },
  "language_info": {
   "codemirror_mode": {
    "name": "ipython",
    "version": 3
   },
   "file_extension": ".py",
   "mimetype": "text/x-python",
   "name": "python",
   "nbconvert_exporter": "python",
   "pygments_lexer": "ipython3",
   "version": "3.12.1"
  }
 },
 "nbformat": 4,
 "nbformat_minor": 2
}
