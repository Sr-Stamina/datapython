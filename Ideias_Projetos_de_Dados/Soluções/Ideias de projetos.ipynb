{
 "cells": [
  {
   "cell_type": "markdown",
   "metadata": {},
   "source": [
    "# Possibilidades de projetos com python\n",
    "---\n",
    "## Relatórios online\n",
    "> Criar relatórios online:\n",
    "\n",
    "***Bibliotecas***\n",
    "* [Pandas](https://pandas.pydata.org)\n",
    "  * Manipular os dados\n",
    "* [Streamlit](https://streamlit.io)\n",
    "  * Desenvolver visualizações para WEB\n",
    "---\n",
    "## Analisadror de Vídeos do Youtube\n",
    "> Criar um script que seja capaz de fazer um resumo de um vídeo do Youtube\n",
    "\n",
    "***Bibliotecas***\n",
    "* [Pytubefix](https://pypi.org/project/pytubefix/)\n",
    "* [ffmpeg](https://www.ffmpeg.org/)\n",
    "* \n",
    "---\n",
    "## ChatBot de terminal\n",
    "> \n"
   ]
  },
  {
   "cell_type": "code",
   "execution_count": null,
   "metadata": {
    "vscode": {
     "languageId": "plaintext"
    }
   },
   "outputs": [],
   "source": [
    "import "
   ]
  }
 ],
 "metadata": {
  "language_info": {
   "name": "python"
  }
 },
 "nbformat": 4,
 "nbformat_minor": 2
}
