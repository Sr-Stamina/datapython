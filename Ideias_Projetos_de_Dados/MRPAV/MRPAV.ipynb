{
 "cells": [
  {
   "cell_type": "markdown",
   "metadata": {},
   "source": [
    "# Desenvolver um modelo de recomendação de produtos para clientes na empresa que trabalho\n",
    "\n",
    "## MRPAV\n",
    "### _Modelo de Recomendação de Produtos para Atacado e Varejo_\n",
    "---\n",
    "[Artigo sobre Arquitetura de Sistemas de Recomendação](https://scielo.pt/pdf/rist/n42/1646-9895-rist-42-46.pdf)\n",
    "- Arquitetura de sistemas de recomendação para apoio ao vendedor no uso de sistemas de força de vendas em empresa com grande portfólio de produtos"
   ]
  },
  {
   "cell_type": "code",
   "execution_count": null,
   "metadata": {},
   "outputs": [],
   "source": []
  }
 ],
 "metadata": {
  "language_info": {
   "name": "python"
  }
 },
 "nbformat": 4,
 "nbformat_minor": 2
}
