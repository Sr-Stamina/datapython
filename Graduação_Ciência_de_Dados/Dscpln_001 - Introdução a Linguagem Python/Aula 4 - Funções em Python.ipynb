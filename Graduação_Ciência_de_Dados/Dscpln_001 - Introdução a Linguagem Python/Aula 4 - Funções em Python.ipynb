{
 "cells": [
  {
   "cell_type": "markdown",
   "metadata": {},
   "source": [
    "# Funções em Python\n",
    "1. Funções Built-in em Python;\n",
    "1. Funções definidas pelo usuário (com retorno e parâmetro);\n",
    "1. Funções anônimas em Python."
   ]
  },
  {
   "cell_type": "markdown",
   "metadata": {},
   "source": [
    "## As funções Built-in são as que já vem prontas na linguagem, como:\n",
    "- `print`\n",
    "- `type`\n",
    "- `import`\n",
    "- `for`\n",
    "- `if`\n",
    "---\n",
    "E assim por diante..."
   ]
  },
  {
   "cell_type": "markdown",
   "metadata": {},
   "source": [
    "## As funções definidas pelo usuário são feitas com o método `def`\n",
    "- Elas são criadas para resolver problemas específicos, que as funções já definidas não resolvem sozinhas, então essas funções definidas pelo usuário podem ser chamadas e são\n",
    "> objetos\n",
    "- `def`"
   ]
  },
  {
   "cell_type": "code",
   "execution_count": 1,
   "metadata": {},
   "outputs": [
    {
     "name": "stdout",
     "output_type": "stream",
     "text": [
      "Olá, Maria, seja bem-vindo!\n",
      "Olá, visitante, seja bem-vindo!\n"
     ]
    }
   ],
   "source": [
    "# Define a função `saudacao`\n",
    "def saudacao(nome=\"visitante\"):\n",
    "    print(f\"Olá, {nome}, seja bem-vindo!\")\n",
    "\n",
    "saudacao(\"Maria\")  # Saída: Olá, Maria, seja bem-vindo!\n",
    "saudacao()         # Saída: Olá, visitante, seja bem-vindo!"
   ]
  },
  {
   "cell_type": "code",
   "execution_count": 3,
   "metadata": {},
   "outputs": [
    {
     "name": "stdout",
     "output_type": "stream",
     "text": [
      "Olá, Jhonathan, seja bem-vindo!\n"
     ]
    }
   ],
   "source": [
    "saudacao(\"Jhonathan\")"
   ]
  }
 ],
 "metadata": {
  "kernelspec": {
   "display_name": "Python 3",
   "language": "python",
   "name": "python3"
  },
  "language_info": {
   "codemirror_mode": {
    "name": "ipython",
    "version": 3
   },
   "file_extension": ".py",
   "mimetype": "text/x-python",
   "name": "python",
   "nbconvert_exporter": "python",
   "pygments_lexer": "ipython3",
   "version": "3.12.1"
  }
 },
 "nbformat": 4,
 "nbformat_minor": 2
}
