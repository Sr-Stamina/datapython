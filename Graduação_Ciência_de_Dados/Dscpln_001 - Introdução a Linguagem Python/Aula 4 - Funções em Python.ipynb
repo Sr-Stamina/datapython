{
 "cells": [
  {
   "cell_type": "markdown",
   "metadata": {},
   "source": [
    "# Funções em Python\n",
    "1. Funções Built-in em Python;\n",
    "1. Funções definidas pelo usuário (com retorno e parâmetro);\n",
    "1. Funções anônimas em Python."
   ]
  },
  {
   "cell_type": "code",
   "execution_count": null,
   "metadata": {},
   "outputs": [],
   "source": []
  }
 ],
 "metadata": {
  "language_info": {
   "name": "python"
  }
 },
 "nbformat": 4,
 "nbformat_minor": 2
}
