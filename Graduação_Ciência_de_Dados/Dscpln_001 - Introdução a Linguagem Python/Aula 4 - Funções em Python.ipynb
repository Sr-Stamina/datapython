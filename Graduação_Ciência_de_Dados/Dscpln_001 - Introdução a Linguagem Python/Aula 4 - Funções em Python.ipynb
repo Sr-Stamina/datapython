{
 "cells": [
  {
   "cell_type": "markdown",
   "metadata": {},
   "source": [
    "# Funções em Python\n",
    "1. Funções Built-in em Python;\n",
    "1. Funções definidas pelo usuário (com retorno e parâmetro);\n",
    "1. Funções anônimas em Python."
   ]
  },
  {
   "cell_type": "markdown",
   "metadata": {},
   "source": [
    "## As funções Built-in são as que já vem prontas na linguagem, como:\n",
    "- `print`\n",
    "- `type`\n",
    "- `import`\n",
    "- `for`\n",
    "- `if`\n",
    "---\n",
    "E assim por diante...\n",
    "\n",
    "Aqui temos a _documentação_ com **todas as funções _'embutidas'_** (`Built-in`) do Python: [Funções Embutidas | Prontas do Python](https://docs.python.org/3/library/functions.html)"
   ]
  },
  {
   "cell_type": "code",
   "execution_count": 17,
   "metadata": {},
   "outputs": [
    {
     "name": "stdout",
     "output_type": "stream",
     "text": [
      "8.3\n"
     ]
    }
   ],
   "source": [
    "notas = [7.5, 8.5, 9, 10, 9.17, 6.93, 7]\n",
    "tam = float(len(notas))\n",
    "med = sum(notas) / tam\n",
    "print(med)"
   ]
  },
  {
   "cell_type": "markdown",
   "metadata": {},
   "source": [
    "## As funções definidas pelo usuário são feitas com o método `def`\n",
    "- Elas são criadas para resolver problemas específicos, que as funções já definidas não resolvem sozinhas, então essas funções definidas pelo usuário podem ser chamadas e são\n",
    "> objetos\n",
    "- `def`"
   ]
  },
  {
   "cell_type": "code",
   "execution_count": 1,
   "metadata": {},
   "outputs": [
    {
     "name": "stdout",
     "output_type": "stream",
     "text": [
      "Olá, Maria, seja bem-vindo!\n",
      "Olá, visitante, seja bem-vindo!\n"
     ]
    }
   ],
   "source": [
    "# Define a função `saudacao`\n",
    "def saudacao(nome=\"visitante\"):\n",
    "    print(f\"Olá, {nome}, seja bem-vindo!\")\n",
    "\n",
    "saudacao(\"Maria\")  # Saída: Olá, Maria, seja bem-vindo!\n",
    "saudacao()         # Saída: Olá, visitante, seja bem-vindo!"
   ]
  },
  {
   "cell_type": "code",
   "execution_count": 3,
   "metadata": {},
   "outputs": [
    {
     "name": "stdout",
     "output_type": "stream",
     "text": [
      "Olá, Jhonathan, seja bem-vindo!\n"
     ]
    }
   ],
   "source": [
    "saudacao(\"Jhonathan\")"
   ]
  },
  {
   "cell_type": "markdown",
   "metadata": {},
   "source": [
    "### Aprendendo funções definidas pelo usuário\n",
    "---"
   ]
  },
  {
   "cell_type": "code",
   "execution_count": 2,
   "metadata": {},
   "outputs": [],
   "source": [
    "def soma(num, num1):\n",
    "    print('A soma é:', num + num1)"
   ]
  },
  {
   "cell_type": "code",
   "execution_count": 4,
   "metadata": {},
   "outputs": [
    {
     "name": "stdout",
     "output_type": "stream",
     "text": [
      "A soma é: 556\n"
     ]
    }
   ],
   "source": [
    "soma(56, 500)"
   ]
  },
  {
   "cell_type": "code",
   "execution_count": 2,
   "metadata": {},
   "outputs": [],
   "source": [
    "def catalogo(lista_filmes = []):\n",
    "    for filme in range(1, 10):\n",
    "        lista_filmes.append(f'Fast & Furious {filme}')\n",
    "    return lista_filmes\n",
    "def nps_cinema():\n",
    "    # Classificação com loop \"for\"\n",
    "    for filme in catalogo:\n",
    "        classificacao = float(input(f'Como você classifica o filme {filme} de 1 a 10?\\n\\nDigite 0 para parar'))\n",
    "        if classificacao == 0:\n",
    "            break\n",
    "        if classificacao < 1 or classificacao > 10:\n",
    "            print('Digite uma classificação válida, por favor!')\n",
    "        else:\n",
    "            print(f'Você classificou o {filme} com a nota: {classificacao}.')\n",
    "\n",
    "    print('Obrigado por classificar os filmes!')\n",
    "    # Funcionava! -> fora do `def`, ainda não sei o que aconteceu de errado 22/09/2024"
   ]
  },
  {
   "cell_type": "code",
   "execution_count": 25,
   "metadata": {},
   "outputs": [],
   "source": [
    "def calculadora_de_media(notas = [7.5, 8.5, 9, 10, 9.17, 6.93, 7]):\n",
    "    tam = float(len(notas))\n",
    "    med = sum(notas) / tam\n",
    "    print(med)"
   ]
  },
  {
   "cell_type": "code",
   "execution_count": 28,
   "metadata": {},
   "outputs": [
    {
     "name": "stdout",
     "output_type": "stream",
     "text": [
      "5.0\n"
     ]
    }
   ],
   "source": [
    "calculadora_de_media(notas = [10, 0])"
   ]
  },
  {
   "cell_type": "code",
   "execution_count": 26,
   "metadata": {},
   "outputs": [
    {
     "name": "stdout",
     "output_type": "stream",
     "text": [
      "8.3\n"
     ]
    }
   ],
   "source": [
    "calculadora_de_media()"
   ]
  },
  {
   "cell_type": "markdown",
   "metadata": {},
   "source": [
    "## Funções Anônimas em Python\n",
    "- Conhecidas como funções `lambda`, oferecem uma abordagem concisa e flexível para a definição de funções pelo usuário. Funções anônimas são declaradas sem a necessidade de um nome, permitindo que sejam definidas e utilizadas no local em que são necessárias."
   ]
  },
  {
   "cell_type": "code",
   "execution_count": null,
   "metadata": {},
   "outputs": [],
   "source": [
    "soma = lambda a, b: a + b\n",
    "resultado = soma(1 ,2)\n",
    "return resultado"
   ]
  }
 ],
 "metadata": {
  "kernelspec": {
   "display_name": "Python 3",
   "language": "python",
   "name": "python3"
  },
  "language_info": {
   "codemirror_mode": {
    "name": "ipython",
    "version": 3
   },
   "file_extension": ".py",
   "mimetype": "text/x-python",
   "name": "python",
   "nbconvert_exporter": "python",
   "pygments_lexer": "ipython3",
   "version": "3.12.1"
  }
 },
 "nbformat": 4,
 "nbformat_minor": 2
}
