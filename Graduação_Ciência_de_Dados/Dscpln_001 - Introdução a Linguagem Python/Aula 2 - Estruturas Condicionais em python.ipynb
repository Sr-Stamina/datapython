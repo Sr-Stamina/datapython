{
 "cells": [
  {
   "cell_type": "markdown",
   "metadata": {},
   "source": [
    "# Estruturas Condicionais em Python\n",
    "\n",
    "- **Tópicos da nossa aula**\n",
    "\n",
    "1. Operadores relacionais;\n",
    "2. Estruturas lógicas;\n",
    "3. Estruturas condicionais if, else, elif.\n",
    "\n",
    "# Operadores relacionais\n",
    "\n",
    "| Operação | Significado |\n",
    "|:--------:|:-----------:|\n",
    "|<|Estritamente menor que|\n",
    "|<=|Menor ou igual que|\n",
    "|>|Estritamente menor que|\n",
    "|>=|Maior ou igual que|\n",
    "|==|Igual|\n",
    "|!=|Diferente|\n",
    "|is|Identidade do objeto|\n",
    "|is not|Negação da identidade do objeto|\n",
    "\n",
    "---\n",
    "\n"
   ]
  },
  {
   "cell_type": "code",
   "execution_count": 16,
   "metadata": {},
   "outputs": [
    {
     "name": "stdout",
     "output_type": "stream",
     "text": [
      "3\n"
     ]
    }
   ],
   "source": [
    "x = 1\n",
    "x += 1\n",
    "x += 1\n",
    "print(x)"
   ]
  },
  {
   "cell_type": "code",
   "execution_count": null,
   "metadata": {},
   "outputs": [],
   "source": [
    "num = input(int('Escreva um número inteiro:'))\n"
   ]
  }
 ],
 "metadata": {
  "kernelspec": {
   "display_name": "Python 3",
   "language": "python",
   "name": "python3"
  },
  "language_info": {
   "codemirror_mode": {
    "name": "ipython",
    "version": 3
   },
   "file_extension": ".py",
   "mimetype": "text/x-python",
   "name": "python",
   "nbconvert_exporter": "python",
   "pygments_lexer": "ipython3",
   "version": "3.12.1"
  }
 },
 "nbformat": 4,
 "nbformat_minor": 2
}
