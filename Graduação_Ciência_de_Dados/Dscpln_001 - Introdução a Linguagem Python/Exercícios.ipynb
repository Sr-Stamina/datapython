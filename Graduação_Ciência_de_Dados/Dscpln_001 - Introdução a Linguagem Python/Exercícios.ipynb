{
 "cells": [
  {
   "cell_type": "markdown",
   "metadata": {},
   "source": [
    "# Calculadora IMC Python"
   ]
  },
  {
   "cell_type": "code",
   "execution_count": 7,
   "metadata": {},
   "outputs": [],
   "source": [
    "# Armazena as informações do usuário\n",
    "nome = str(input('Qual seu nome?'))\n",
    "idade = int(input('Quantos anos você tem?'))\n",
    "altura = float(input('Qual sua altura em metros?'))\n",
    "peso = float(input('Quanto você pesa?'))"
   ]
  },
  {
   "cell_type": "code",
   "execution_count": 8,
   "metadata": {},
   "outputs": [
    {
     "name": "stdout",
     "output_type": "stream",
     "text": [
      "21.887453206134523\n"
     ]
    }
   ],
   "source": [
    "IMC = peso / (altura ** 2)\n",
    "print(IMC)"
   ]
  },
  {
   "cell_type": "code",
   "execution_count": 9,
   "metadata": {},
   "outputs": [
    {
     "name": "stdout",
     "output_type": "stream",
     "text": [
      "Você está no peso normal e seu IMC é: 21.887453206134523\n"
     ]
    }
   ],
   "source": [
    "condicao = [f'Você está abaixo do peso e seu IMC é: {IMC}',\n",
    "            f'Você está no peso normal e seu IMC é: {IMC}',\n",
    "            f'Você está com sobrepeso e seu IMC é: {IMC}',\n",
    "            f'Você está com Obesidade grau I e seu IMC é: {IMC}',\n",
    "            f'Você está com Obesidade grau II e seu IMC é: {IMC}',\n",
    "            f'Você está com Obesidade grau III e seu IMC é: {IMC}']\n",
    "\n",
    "if IMC < 18.5:\n",
    "    print(condicao[0])\n",
    "elif IMC < 24.9:\n",
    "    print(condicao[1])\n",
    "elif IMC < 29.9:\n",
    "    print(condicao[2])\n",
    "elif IMC < 34.9:\n",
    "    print(condicao[3])\n",
    "elif IMC < 39.9:\n",
    "    print(condicao[4]) \n",
    "else:\n",
    "    print(condicao[5])"
   ]
  }
 ],
 "metadata": {
  "kernelspec": {
   "display_name": "Python 3",
   "language": "python",
   "name": "python3"
  },
  "language_info": {
   "codemirror_mode": {
    "name": "ipython",
    "version": 3
   },
   "file_extension": ".py",
   "mimetype": "text/x-python",
   "name": "python",
   "nbconvert_exporter": "python",
   "pygments_lexer": "ipython3",
   "version": "3.12.1"
  }
 },
 "nbformat": 4,
 "nbformat_minor": 2
}
