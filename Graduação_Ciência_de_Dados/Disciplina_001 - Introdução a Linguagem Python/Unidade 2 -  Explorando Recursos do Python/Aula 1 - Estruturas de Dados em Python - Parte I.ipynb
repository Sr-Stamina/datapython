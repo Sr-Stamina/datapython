{
 "cells": [
  {
   "cell_type": "markdown",
   "metadata": {},
   "source": [
    "# Estruturas de dados em Python – parte I\n",
    "---"
   ]
  },
  {
   "cell_type": "markdown",
   "metadata": {},
   "source": [
    "### Tópicos:\n",
    "\n",
    "1. Objetos do Tipo `sequência`;\n",
    "2. `Lista`;\n",
    "3. `Tuplas`.\n",
    "---"
   ]
  },
  {
   "cell_type": "markdown",
   "metadata": {},
   "source": [
    "## Objetos do Tipo `SEQUÊNCIA`\n",
    "> Sequências são estruturas de dados que nos permitem ordenar coleções ordenadas de informações\n",
    "* A ***ORDEM*** importa!\n",
    "\n",
    "* Coleções versáteis que podem armazenas vários valores;\n",
    "\n",
    "* Servem para armazenar dados em uma ordem específica.\n",
    "    * Esses dados são indexados por números inteiros não negativos;\n",
    "\n",
    "* O 1° elemento da sequência é acessado pelo índice `0`, o 2° pelo índice `1` e assim por diante até o último elemento, que está na posição n - 1, onde `n` representa a capacidade de armazenamento da sequência;\n",
    "---"
   ]
  },
  {
   "cell_type": "markdown",
   "metadata": {},
   "source": [
    "### Operações em Comum de Sequências\n",
    "\n",
    "<table>\n",
    "  <tr>\n",
    "    <td>\n",
    "      <img src=\"image.png\" alt=\"Tabela de operações com lista\" width=\"650\"/>\n",
    "    </td>\n",
    "    <td>\n",
    "      <table border=\"1\" cellpadding=\"5\" cellspacing=\"0\">\n",
    "        <tr>\n",
    "          <th>Operação</th>\n",
    "          <th>Resultado</th>\n",
    "        </tr>\n",
    "        <tr>\n",
    "          <td><code>x in s</code></td>\n",
    "          <td>True caso um item de <code>s</code> seja igual a <code>x</code>, senão False</td>\n",
    "        </tr>\n",
    "        <tr>\n",
    "          <td><code>s + t</code></td>\n",
    "          <td>Concatenação de <code>s</code> e <code>t</code></td>\n",
    "        </tr>\n",
    "        <tr>\n",
    "          <td><code>n * s</code></td>\n",
    "          <td>Adiciona <code>s</code> a si mesmo <code>n</code> vezes</td>\n",
    "        </tr>\n",
    "        <tr>\n",
    "          <td><code>s[i]</code></td>\n",
    "          <td>Acessa o valor guardado na posição <code>i</code> da sequência</td>\n",
    "        </tr>\n",
    "        <tr>\n",
    "          <td><code>s[i:j]</code></td>\n",
    "          <td>Acessa os valores guardados da posição <code>i</code> até <code>j</code></td>\n",
    "        </tr>\n",
    "        <tr>\n",
    "          <td><code>s[i:j:k]</code></td>\n",
    "          <td>Acessa os valores da posição <code>i</code> até <code>j</code>, com passo <code>k</code></td>\n",
    "        </tr>\n",
    "        <tr>\n",
    "          <td><code>len(s)</code></td>\n",
    "          <td>Comprimento de <code>s</code></td>\n",
    "        </tr>\n",
    "        <tr>\n",
    "          <td><code>min(s)</code></td>\n",
    "          <td>Menor valor de <code>s</code></td>\n",
    "        </tr>\n",
    "        <tr>\n",
    "          <td><code>max(s)</code></td>\n",
    "          <td>Maior valor de <code>s</code></td>\n",
    "        </tr>\n",
    "        <tr>\n",
    "          <td><code>s.count(x)</code></td>\n",
    "          <td>Número total de ocorrências de <code>x</code> em <code>s</code></td>\n",
    "        </tr>\n",
    "      </table>\n",
    "    </td>\n",
    "  </tr>\n",
    "</table>\n"
   ]
  },
  {
   "cell_type": "markdown",
   "metadata": {},
   "source": [
    "---\n",
    "\n"
   ]
  },
  {
   "cell_type": "code",
   "execution_count": 52,
   "metadata": {},
   "outputs": [
    {
     "name": "stdout",
     "output_type": "stream",
     "text": [
      "A palavra ferramenta foi usada: Sim!\n",
      "\n",
      "A lista possui 83 caracteres\n",
      "\n",
      "Nessa frase a letra \"o\" aparece: 8 vezes\n",
      "\n",
      "As 7 primeiras letras da frase são: Eu sere.\n"
     ]
    }
   ],
   "source": [
    "import random\n",
    "# PRATICANDO AS OPERAÇÕES\n",
    "frase = 'Eu serei um cientista de dados e vou usar Python como uma ferramenta muito poderosa'\n",
    "\n",
    "if 'ferramenta' in frase:\n",
    "    resp = 'Sim!'\n",
    "else:\n",
    "    resp = 'Não!'\n",
    "print(f'A palavra ferramenta foi usada: {resp}')\n",
    "\n",
    "print(f'\\nA lista possui {len(frase)} caracteres')\n",
    "\n",
    "print(f'\\nNessa frase a letra \"o\" aparece: {frase.count('o')} vezes')\n",
    "\n",
    "n_aleat = random.randint(6, 15)\n",
    "print(f'\\nAs {n_aleat} primeiras letras da frase são: {frase[0:n_aleat]}.')"
   ]
  },
  {
   "cell_type": "markdown",
   "metadata": {},
   "source": [
    "---\n",
    "\n",
    "## Listas\n",
    "> São uma forma fundamental de `Objetos Do Tipos Sequência`, são mutáveis, o que significa que podemos:\n",
    "* Adicionar;\n",
    "* Remover;\n",
    "* Alterar os elementos."
   ]
  },
  {
   "cell_type": "code",
   "execution_count": 101,
   "metadata": {},
   "outputs": [
    {
     "name": "stdout",
     "output_type": "stream",
     "text": [
      "\n",
      "Posição = 0, cor = vermelho\n",
      "\n",
      "Cor = vermelho\n",
      "\n",
      "Posição = 1, cor = verde\n",
      "\n",
      "Cor = verde\n",
      "\n",
      "Posição = 2, cor = azul\n",
      "\n",
      "Cor = azul\n",
      "\n",
      "Posição = 3, cor = amarelo\n",
      "\n",
      "Cor = amarelo\n",
      "\n",
      "Posição = 4, cor = roxo\n",
      "\n",
      "Cor = roxo\n"
     ]
    }
   ],
   "source": [
    "### Listas tem como uma de suas características a MUTABILIDADE\n",
    "cores = ['vermelho', 'verde', 'azul', 'amarelo', 'roxo']\n",
    "for mite in cores:\n",
    "    print(f'\\nPosição = {cores.index(mite)}, cor = {mite}')\n",
    "    print(f'\\nCor = {mite}')"
   ]
  },
  {
   "cell_type": "markdown",
   "metadata": {},
   "source": [
    "---\n",
    "\n",
    "### List Comprehensions, Map e Filter\n",
    "\n",
    "> As `list comprehensions` ou `listcomps`, são uma abordagem ***pythônica*** para criar listas com base em objetos iteráveis;\n",
    "- Especialmente útil quando você deseja transformar ou filtrar as informações de uma sequência existente para criar uma nova sequência com as informações desejadas;"
   ]
  },
  {
   "cell_type": "code",
   "execution_count": 104,
   "metadata": {},
   "outputs": [
    {
     "name": "stdout",
     "output_type": "stream",
     "text": [
      "Antes da \"listcomp\": ['Python', 'Java', 'Node.js', 'Java Script', 'Django', 'Libs', 'VS Code', 'Lua', 'Elixir', 'DBMS']\n",
      "\n",
      "A lista de ferramentas em letras maiúsculas com uso de \"LISTCOMPS\": ['PYTHON', 'JAVA', 'NODE.JS', 'JAVA SCRIPT', 'DJANGO', 'LIBS', 'VS CODE', 'LUA', 'ELIXIR', 'DBMS']\n"
     ]
    }
   ],
   "source": [
    "# listcomps\n",
    "dev_tools = ['Python', 'Java', 'Node.js', 'Java Script', 'Django', 'Libs', 'VS Code', 'Lua', 'Elixir', 'DBMS']\n",
    "print(f'Antes da \"listcomp\": {dev_tools}')\n",
    "\n",
    "tools_uppercase = [tool.upper() for tool in dev_tools]\n",
    "print(f'\\nA lista de ferramentas em letras maiúsculas com uso de \"LISTCOMPS\": {tools_uppercase}')"
   ]
  },
  {
   "cell_type": "markdown",
   "metadata": {},
   "source": [
    "---\n",
    "\n",
    "#### Função ``MAP``\n",
    "\n",
    "- Aplica a função em toda a sequência\n",
    "\n",
    "- Sintaxe:\n",
    "\n",
    "``` python\n",
    "    (map('função', 'sequência'))\n",
    "```"
   ]
  },
  {
   "cell_type": "code",
   "execution_count": 115,
   "metadata": {},
   "outputs": [
    {
     "name": "stdout",
     "output_type": "stream",
     "text": [
      "[871.0504000000001, 8541.291616, 5.417808, 18.5504, 299.04336, 545.6, 272.8, 381.92, 501.95200000000006, 23.188000000000002]\n"
     ]
    }
   ],
   "source": [
    "# Função MAP -> Multiplica a função em toda a sequência\n",
    "dol_prices = [159.65, 1565.486, 0.993, 3.4, 54.81, 100, 50, 70, 92, 4.25]\n",
    "exchange_rate = 5.456\n",
    "brl_prices = list(map(lambda p: p * exchange_rate, dol_prices))\n",
    "print(brl_prices)"
   ]
  },
  {
   "cell_type": "markdown",
   "metadata": {},
   "source": [
    "---\n",
    "\n",
    "### Função `FILTER`\n",
    "\n",
    "- Filtra os elementos de uma sequência com base em uma função de teste (retorna true or false)\n",
    "\n",
    "- Sintaxe: \n",
    "\n",
    "``` python\n",
    "    filter('funcao_teste', 'sequencia')\n",
    "```"
   ]
  },
  {
   "cell_type": "code",
   "execution_count": 121,
   "metadata": {},
   "outputs": [
    {
     "name": "stdout",
     "output_type": "stream",
     "text": [
      "[2, 4, 6, 8, 10]\n",
      "[1, 3, 5, 7, 9]\n"
     ]
    }
   ],
   "source": [
    "# Usando `filter`\n",
    "numbers = [1, 2, 3, 4, 5, 6, 7, 8, 9, 10]\n",
    "even_numbers = list(filter(lambda e_n: e_n % 2 == 0, numbers))\n",
    "odd_numbers = list(filter(lambda o_n: o_n % 2 != 0, numbers))\n",
    "# Return the even numbers of the list\n",
    "print(even_numbers)\n",
    "# Return the odd numbers of the list\n",
    "print(odd_numbers)"
   ]
  },
  {
   "cell_type": "markdown",
   "metadata": {},
   "source": [
    "---\n",
    "\n",
    "### `Tuples` ou `Tuplas`\n",
    "\n",
    "- São semelhantes a listas, mas com a diferença fundamental de que:\n",
    "    - ***SÃO IMUTÁVEIS***\n",
    "        - Uma vez criadas não podem ser alteradas!\n",
    "    - A **Ordem Importa**\n",
    "\n",
    "- Sintaxe:\n",
    "\n",
    "```python\n",
    "# Tupla vazia:\n",
    "tuple_1 = ()\n",
    "\n",
    "# Usando um par de parênteses e elementos separados por vírgula:\n",
    "tuple_2 = ('a', 'b', 'c')\n",
    "```\n",
    "\n",
    "---"
   ]
  },
  {
   "cell_type": "code",
   "execution_count": 124,
   "metadata": {},
   "outputs": [
    {
     "name": "stdout",
     "output_type": "stream",
     "text": [
      "Tipo do Objeto Vogais  = <class 'tuple'>\n",
      "Posição: 0 e Valor: a\n",
      "Posição: 1 e Valor: e\n",
      "Posição: 2 e Valor: i\n",
      "Posição: 3 e Valor: o\n",
      "Posição: 4 e Valor: u\n"
     ]
    }
   ],
   "source": [
    "# A ORDEM IMPORTA - Exemplos\n",
    "vogais = ('a', 'e', 'i', 'o', 'u')\n",
    "print(f'Tipo do Objeto Vogais  = {type(vogais)}')\n",
    "for pstion, value in enumerate(vogais):\n",
    "    print(f'Posição: {pstion} e Valor: {value}')"
   ]
  },
  {
   "cell_type": "markdown",
   "metadata": {},
   "source": [
    "---\n",
    "#### Desafio\n",
    "---\n",
    "\n",
    "> Você está gerenciando uma lista de convidados para uma festa e uma lista de pessoas que confirmaram sua presença.\n",
    "\n",
    "- Você deseja identificar as pessoas que ainda não confirmaram e convidá-las novamente."
   ]
  },
  {
   "cell_type": "code",
   "execution_count": 130,
   "metadata": {},
   "outputs": [
    {
     "name": "stdout",
     "output_type": "stream",
     "text": [
      "Invited that not confirmed:\n",
      "Téo\n",
      "Bife\n",
      "Costelinha\n"
     ]
    }
   ],
   "source": [
    "# Convidados armazenados em tupla\n",
    "invited = ('Téo', 'Bife', 'Costelinha', 'Thor', 'Nina')\n",
    "\n",
    "# Confirmados\n",
    "confirmed = ['Thor', 'Nina']\n",
    "\n",
    "# Identify who didn't confirmed\n",
    "not_confirmed = [friend for friend in invited if friend not in confirmed]\n",
    "\n",
    "# Show the invited that not confirmed yet\n",
    "print('Invited that not confirmed:')\n",
    "for people in not_confirmed:\n",
    "    print(people)"
   ]
  }
 ],
 "metadata": {
  "kernelspec": {
   "display_name": "Python 3",
   "language": "python",
   "name": "python3"
  },
  "language_info": {
   "codemirror_mode": {
    "name": "ipython",
    "version": 3
   },
   "file_extension": ".py",
   "mimetype": "text/x-python",
   "name": "python",
   "nbconvert_exporter": "python",
   "pygments_lexer": "ipython3",
   "version": "3.12.5"
  }
 },
 "nbformat": 4,
 "nbformat_minor": 2
}
