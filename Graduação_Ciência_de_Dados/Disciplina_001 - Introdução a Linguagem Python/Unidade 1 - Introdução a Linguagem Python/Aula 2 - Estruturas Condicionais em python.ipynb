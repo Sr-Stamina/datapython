{
 "cells": [
  {
   "cell_type": "markdown",
   "metadata": {},
   "source": [
    "# Estruturas Condicionais em Python\n",
    "\n",
    "- **Tópicos da nossa aula**\n",
    "\n",
    "1. Operadores relacionais;\n",
    "2. Estruturas lógicas;\n",
    "3. Estruturas condicionais if, else, elif.\n",
    "\n",
    "# Operadores relacionais\n",
    "\n",
    "| Operação | Significado |\n",
    "|:--------:|:-----------:|\n",
    "|<|Estritamente menor que|\n",
    "|<=|Menor ou igual que|\n",
    "|>|Estritamente menor que|\n",
    "|>=|Maior ou igual que|\n",
    "|==|Igual|\n",
    "|!=|Diferente|\n",
    "|is|Identidade do objeto|\n",
    "|is not|Negação da identidade do objeto|\n",
    "\n",
    "---"
   ]
  },
  {
   "cell_type": "code",
   "execution_count": 2,
   "metadata": {},
   "outputs": [
    {
     "name": "stdout",
     "output_type": "stream",
     "text": [
      "3\n"
     ]
    }
   ],
   "source": [
    "x = 1\n",
    "x += 1\n",
    "x += 1\n",
    "print(x)"
   ]
  },
  {
   "cell_type": "code",
   "execution_count": 4,
   "metadata": {},
   "outputs": [],
   "source": [
    "num = int(input('Escreva um número inteiro:'))\n"
   ]
  },
  {
   "cell_type": "markdown",
   "metadata": {},
   "source": [
    "# Estruturas lógicas\n",
    "\n",
    "* Operadores booleanos são usados para construir decisões mais complexas em programação\n",
    "    * Os operadores booleanos ajudam a combinar diferentes condições e a orientar o fluxo do programa de acordo com a lógica desejada.\n",
    "        * ***Operador “E” (and)***\n",
    "        > O operador “E” (and) permite a realização da operação lógica “E”. Isso significa que, ao usar a expressão (a and b), o resultado será “Verdadeiro” somente quando ambos os argumentos, “a” e “b”, forem verdadeiros. Caso contrário, o resultado será “Falso”.\n",
    "        * ***Operador “OU” (or)***\n",
    "        > O operador “OU” (or) realiza a operação lógica “OU”. Ao utilizar a expressão (a or b), o resultado será “Verdadeiro” se pelo menos um dos argumentos, “a” ou “b”, for verdadeiro. A expressão será “Falsa” apenas quando ambos os argumentos forem falsos.\n",
    "        * ***Operador “NÃO” (not)***\n",
    "        > O operador “NÃO” (not) é responsável por inverter o valor do argumento. Ao aplicarmos a expressão (not a), ela transformará “Verdadeiro” em “Falso”, e vice-versa. Ou seja, se o argumento for verdadeiro, a operação o tornará falso, e, se for falso, a operação o tornará verdadeiro.\n",
    "---\n",
    "* Esses operadores booleanos são essenciais para a criação de estruturas de decisão mais sofisticadas, pois possibilitam que os programas lidem com uma variedade de situações e critérios lógicos. São usados para controlar o fluxo de execução com base em condições complexas e, assim, tornam viável a elaboração de programas que tomam decisões de acordo com critérios específicos.\n"
   ]
  },
  {
   "cell_type": "code",
   "execution_count": 9,
   "metadata": {},
   "outputs": [],
   "source": [
    "# Exemplos\n",
    "num1 = 10\n",
    "num2 = 12"
   ]
  },
  {
   "cell_type": "markdown",
   "metadata": {},
   "source": [
    "> Os comandos if e else são como bifurcações em uma estrada, orientando o fluxo do programa com base nas condições estabelecidas."
   ]
  },
  {
   "cell_type": "code",
   "execution_count": 13,
   "metadata": {},
   "outputs": [
    {
     "name": "stdout",
     "output_type": "stream",
     "text": [
      "Siga, o semáforo está verde!\n"
     ]
    }
   ],
   "source": [
    "semaforo = ('amarelo')\n",
    "if semaforo == 'vermelho':\n",
    "    print('Pare, o semáforo está vermelho!')\n",
    "else:\n",
    "    print('Siga, o semáforo está verde!')"
   ]
  },
  {
   "cell_type": "markdown",
   "metadata": {},
   "source": [
    "> O comando elif, em Python, é uma abreviação de “else if”, sendo usado em estruturas condicionais para avaliar múltiplas condições em sequência. É frequentemente utilizado após um bloco if e antes de um bloco else. A ideia por trás do elif é permitir que você verifique várias condições em ordem e, quando uma delas for verdadeira, o bloco de código associado a essa condição será executado.\n",
    "### Comando elif\n",
    "* Permite:\n",
    "    * Avaliação em sequência\n",
    "    * Verificação múltipla\n",
    "    * Flexibilidade"
   ]
  },
  {
   "cell_type": "code",
   "execution_count": 14,
   "metadata": {},
   "outputs": [
    {
     "name": "stdout",
     "output_type": "stream",
     "text": [
      "Reduza, atenção, pois o sinal está amarelo!\n"
     ]
    }
   ],
   "source": [
    "if semaforo == 'verde':\n",
    "    print('Siga em frente, o sinal está aberto!')\n",
    "elif semaforo == 'amarelo':\n",
    "    print('Reduza, atenção, pois o sinal está amarelo!')\n",
    "else:\n",
    "    print('Pare, o sinal está vermelho!')"
   ]
  },
  {
   "cell_type": "markdown",
   "metadata": {},
   "source": [
    "# Máquina de Refrigerantes com estruturas de controle de fluxo"
   ]
  },
  {
   "cell_type": "code",
   "execution_count": 4,
   "metadata": {},
   "outputs": [
    {
     "name": "stdout",
     "output_type": "stream",
     "text": [
      "No Pain, No Gain, zero açúcar realmente é uma boa pedida, siga fitness!\n"
     ]
    }
   ],
   "source": [
    "refri = [{'bebida':'Kuat', 'preço':'R$3,00'}, {'bebida'}]\n",
    "moeda = float(input('A máqina tem refrigerantes de R$3,00, R$4,00, R$5,00 e R$7,00. São eles Kuat, Fanta, Coca e Coca Zero respectivamente /Insira o valor do refrigerante dsejado para escolher!'))\n",
    "if moeda >= 7:\n",
    "    print('No Pain, No Gain, zero açúcar realmente é uma boa pedida, siga fitness!')\n",
    "elif moeda >= 5:\n",
    "    print('Parabéns por comprar uma Coca Cola bem gelada!')\n",
    "elif moeda >= 4:\n",
    "    print('Você adquiriu uma deliciosa Fanta sabor laranja, uma ótima e refrescante bebida, parabéns!')\n",
    "elif moeda >= 3:\n",
    "    print('Você comprou um refrigerante Kuat, boa escolha!')\n",
    "else:\n",
    "    print('Saldo insuficiente! Adicione o valor que falta!')"
   ]
  }
 ],
 "metadata": {
  "kernelspec": {
   "display_name": "Python 3",
   "language": "python",
   "name": "python3"
  },
  "language_info": {
   "codemirror_mode": {
    "name": "ipython",
    "version": 3
   },
   "file_extension": ".py",
   "mimetype": "text/x-python",
   "name": "python",
   "nbconvert_exporter": "python",
   "pygments_lexer": "ipython3",
   "version": "3.12.1"
  }
 },
 "nbformat": 4,
 "nbformat_minor": 2
}
