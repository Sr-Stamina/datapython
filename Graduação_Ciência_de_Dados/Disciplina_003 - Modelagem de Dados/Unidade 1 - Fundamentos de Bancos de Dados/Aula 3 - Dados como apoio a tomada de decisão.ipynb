{
 "cells": [
  {
   "cell_type": "markdown",
   "metadata": {},
   "source": [
    "# Aula 3 - Dados como apoio a tomada de decisão.ipynb\n",
    "\n",
    "---"
   ]
  },
  {
   "cell_type": "markdown",
   "metadata": {},
   "source": [
    "### Data Warehouse\n",
    "\n",
    "- Um **depósito** de dados \n",
    "    - É um repositório (ou arquivamento) de informações `colhidas de várias origens`, armazenadas sob um esquema unificado, em um único local.\n",
    "\n",
    "- Uma vez reunidos os dados, eles são armazenados por muito tempo, permitindo o acesso a `dados históricos`.\n",
    "\n",
    "- Os depósitos de dados oferecem ao usuário uma única interface consolidada para os dados, facilitando a escrita de consultas de apoio a decisão.\n",
    "\n",
    "---"
   ]
  },
  {
   "cell_type": "markdown",
   "metadata": {},
   "source": [
    "### OLAP x OLTP\n",
    "\n",
    "- **OLAP** é a sigla em inglês para On-Line Anaytical Processing (Processamento Analítico On-Line) e significa que as informações são processadas para uma análise complexa\n",
    "    - Exemplo: Data Warehouse \n",
    "\n",
    "- **OLTP** é On-Line Transaction Processing (Processamento de Transação On-Line) refere-se aos sistemas com os quais trabalhamos normalmente, ou seja, qualquer operação (inserção, alteração, ou exclusão) é executada de imediato no banco de dados utilizando-se transações.\n",
    "    - Exemplos:\n",
    "        1. Sistema de cadastro de clientes;\n",
    "        2. CRM;\n",
    "        3. Sistema de Gestão Empresarial (ERP - `Enterprise Resource Planning`).\n",
    "---"
   ]
  },
  {
   "cell_type": "markdown",
   "metadata": {},
   "source": [
    "### ***DATA MINING***\n",
    "\n",
    "- O termo ``mineração de dados`` ou ``data mining`` refere-se, em geral, ao processo de analisar grandes bancos de dados para encontrar padrões úteis.\n",
    "\n",
    "- Assim como a descoberta de conhecimento na inteligência artificial (também chamada ``aprendizado de máquina``) ou na análise estatística, a mineração de dados tenta descobrir regras e padrões a partir dos dados.\n",
    "\n",
    "- Busca a descoberta do conhecimento nos bancos de dados.\n",
    "---"
   ]
  }
 ],
 "metadata": {
  "language_info": {
   "name": "python"
  }
 },
 "nbformat": 4,
 "nbformat_minor": 2
}
