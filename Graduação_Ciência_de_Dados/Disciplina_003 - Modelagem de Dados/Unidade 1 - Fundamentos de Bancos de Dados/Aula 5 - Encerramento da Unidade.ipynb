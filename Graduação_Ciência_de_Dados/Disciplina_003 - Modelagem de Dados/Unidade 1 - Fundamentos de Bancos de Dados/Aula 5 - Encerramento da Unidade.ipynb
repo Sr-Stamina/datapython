{
 "cells": [
  {
   "cell_type": "markdown",
   "metadata": {},
   "source": [
    "# Encerramento da Unidade\n",
    "\n",
    "Recomendação de material extra:\n",
    "\n",
    "[Canal DBA OCM - Youtube](https://www.youtube.com/@CanalDBAOCM/playlists)"
   ]
  },
  {
   "cell_type": "markdown",
   "metadata": {},
   "source": []
  }
 ],
 "metadata": {
  "language_info": {
   "name": "python"
  }
 },
 "nbformat": 4,
 "nbformat_minor": 2
}
