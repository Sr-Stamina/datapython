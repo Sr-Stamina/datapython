{
 "cells": [
  {
   "cell_type": "markdown",
   "metadata": {},
   "source": [
    "# Introdução ao estudo de Estrutura de Dados em Python\n",
    "---\n",
    "### Um banco de dados se trata de um conjunto de dados pertinentes organizados\n",
    "> Os bancos de dados são muito mais usados no dia a dia do que se imagina\n",
    "- Os bancos permitem que os dados sejam acessíveis\n",
    "\n",
    "- Definição de ___BANCO DE DADOS___\n",
    "    - É uma coleção organizada e lógica de dados que possui um significado inerente. `Dados dispostos de maneira caótica não podem ser considerados um banco de dados`\n",
    "    - É criado, projetado e preenchido com valores de dados para atender a um propósito específico, contendo um conjunto predefinido de usuários e aplicações.\n",
    "    - Representa uma parte do mundo real, denominada 'minimundo'. Qualquer modificação realizada no minimundo é automaticamente refletida no banco de dados."
   ]
  },
  {
   "cell_type": "markdown",
   "metadata": {},
   "source": [
    "---\n",
    "#### Porque usar bancos de dados?\n",
    "- Bancos de dados armazenam e dão acesso rápido às informações;\n",
    "- Permitem automatizar processos;\n",
    "- São fundamentais para nortear planos de ação e tomada de decisão;\n",
    "- Estão cada vez mais acessíveis. "
   ]
  },
  {
   "cell_type": "markdown",
   "metadata": {},
   "source": [
    "---\n",
    "### Tipos de ***Bancos de Dados***\n",
    "> Relacional\n",
    "- Os dados são armazenados com linhas e colunas específicas que definem os dados.\n",
    "    - Ou seja: Os dados estão bonitos, bem organizados, devidamente relacionados...\n",
    "\n",
    "> Não relacional\n",
    "- Os dados são alocados em pastas, fator que possibilita a definição de um esquema personalizado, além de permitir a adição de novas propriedades sem que impacte as outras informações armazenadas.\n",
    "    - Ou seja: Armazenam vídeos, imagens, arquivos, como .json ou outras extensões.\n",
    "\n",
    "---\n",
    "\n",
    "##### Outros tipos de ___Bancos de Dados___\n",
    "    - Orientado a Objetos\n",
    "    - BD em Cloud\n",
    "    - Distribuídos"
   ]
  },
  {
   "cell_type": "markdown",
   "metadata": {},
   "source": [
    "---\n",
    "### Conceitos cruciais na compreensão da Modelagem de Dados\n",
    "> Os BD são coleções lógicas, inter-relacionadas e coerentes que visam atender as necessidades de uma comunidade de usuários."
   ]
  },
  {
   "cell_type": "markdown",
   "metadata": {},
   "source": [
    "- A modelagem de dados, assim, minera as informações que representam um contexto, estruturando-as em um conjunto denominado modelo lógico de dados\n",
    "\n",
    "> Uma das principais características da modelagem de dados é que ela fornece níveis de abstração de dados que omitem do usuário final detalhes sobre o armazenamento dos dados.\n",
    "- Não existe preocupação com um banco de dados tecnologicamente falando. O modelo de dados, então, é um conjunto de conceitos que podem ser utilizados para descrever as estruturas lógicas e físicas de um banco de dados."
   ]
  },
  {
   "cell_type": "markdown",
   "metadata": {},
   "source": [
    "---\n",
    "\n",
    "### A fim de modelar um banco de dados, para Machado, 2020\n",
    "\n",
    "- Três níveis de visão de dados devem ser considerados. São eles>\n",
    "    - O conceitual\n",
    "    - O lógico\n",
    "    - O físico\n",
    "\n",
    "> Modelo Conceitual\n",
    "- Entendido como a 1° etapa, descreve a realidade do ambiente do problema:\n",
    "    - Constituindo-se em uma perspectiva global dos principais dados e de seus relacionamentos (Estruturas de Informação).\n",
    "    - Completamente independente dos aspectos de sua implementação tecnológica.\n",
    "\n",
    "> Modelo Lógico\n",
    "- Já o ___modelo lógico___ inicia-se somente após a criação do modelo conceitual\n",
    "    - Momento em que se considera uma das abordagens possíveis da tecnologia SGBD (relacional, hierárquica, rede ou orientada a objetos) para estruturação dos relacionamentos existentes entre os dados definidos no modelo conceitual.\n",
    "\n",
    "> Modelo Físico\n",
    "- Quanto ao modelo físico, ele será construído a partir do modelo lógico e descreve as estruturas físicas de armazenamento de dados conforme os requisitos de processamento e uso mais econômico dos recursos computacionais.\n",
    "\n",
    "> Deve-se lembrar que um conjunto de dados só pode ser considerado uma base de dados se existir uma relação coerente dentro da qual possam ser extraídas informações de interesse para uma ou mais organizações.\n",
    "\n",
    "---\n",
    "\n",
    "- Um Sistema Gerenciador de Banco de Dados (SGBD) é um software cuja finalidade é gerenciar as informações de um banco de dados (também chamada de base de dados)."
   ]
  }
 ],
 "metadata": {
  "kernelspec": {
   "display_name": "Python 3",
   "language": "python",
   "name": "python3"
  },
  "language_info": {
   "name": "python",
   "version": "3.12.1"
  }
 },
 "nbformat": 4,
 "nbformat_minor": 2
}
