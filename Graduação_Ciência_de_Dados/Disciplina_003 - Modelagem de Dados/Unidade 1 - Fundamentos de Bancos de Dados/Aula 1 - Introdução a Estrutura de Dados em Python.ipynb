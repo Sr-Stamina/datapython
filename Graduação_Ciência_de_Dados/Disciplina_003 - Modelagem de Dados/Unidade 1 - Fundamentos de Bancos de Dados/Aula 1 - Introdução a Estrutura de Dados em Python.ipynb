{
 "cells": [
  {
   "cell_type": "markdown",
   "metadata": {},
   "source": [
    "# Introdução ao estudo de Estrutura de Dados em Python\n",
    "---\n",
    "### Um banco de dados se trata de um conjunto de dados pertinentes organizados\n",
    "> Os bancos de dados são muito mais usados no dia a dia do que se imagina\n",
    "- Os bancos permitem que os dados sejam acessíveis\n",
    "\n",
    "- Definição de ___BANCO DE DADOS___\n",
    "    - É uma coleção organizada e lógica de dados que possui um significado inerente. `Dados dispostos de maneira caótica não podem ser considerados um banco de dados`\n",
    "    - É criado, projetado e preenchido com valores de dados para atender a um propósito específico, contendo um conjunto predefinido de usuários e aplicações.\n",
    "    - Representa uma parte do mundo real, denominada 'minimundo'. Qualquer modificação realizada no minimundo é automaticamente refletida no banco de dados."
   ]
  },
  {
   "cell_type": "markdown",
   "metadata": {},
   "source": [
    "---\n",
    "#### Porque usar bancos de dados?\n",
    "- Bancos de dados armazenam e dão acesso rápido às informações;\n",
    "- Permitem automatizar processos;\n",
    "- São fundamentais para nortear planos de ação e tomada de decisão;\n",
    "- Estão cada vez mais acessíveis. "
   ]
  },
  {
   "cell_type": "markdown",
   "metadata": {},
   "source": [
    "---\n",
    "### Tipos de ***Bancos de Dados***\n",
    "> Relacional\n",
    "- Os dados são armazenados com linhas e colunas específicas que definem os dados.\n",
    "    - Ou seja: Os dados estão bonitos, bem organizados, devidamente relacionados...\n",
    "\n",
    "> Não relacional\n",
    "- Os dados são alocados em pastas, fator que possibilita a definição de um esquema personalizado, além de permitir a adição de novas propriedades sem que impacte as outras informações armazenadas.\n",
    "    - Ou seja: Armazenam vídeos, imagens, arquivos, como .json ou outras extensões.\n",
    "\n",
    "---\n",
    "\n",
    "##### Outros tipos de ___Bancos de Dados___\n",
    "    - Orientado a Objetos\n",
    "    - BD em Cloud\n",
    "    - Distribuídos"
   ]
  },
  {
   "cell_type": "markdown",
   "metadata": {},
   "source": [
    "---\n",
    "### Conceitos cruciais na compreensão da Modelagem de Dados\n",
    "> Os BD são coleções lógicas, inter-relacionadas e coerentes que visam atender as necessidades de uma comunidade de usuários."
   ]
  },
  {
   "cell_type": "markdown",
   "metadata": {},
   "source": []
  }
 ],
 "metadata": {
  "kernelspec": {
   "display_name": "Python 3",
   "language": "python",
   "name": "python3"
  },
  "language_info": {
   "name": "python",
   "version": "3.12.1"
  }
 },
 "nbformat": 4,
 "nbformat_minor": 2
}
