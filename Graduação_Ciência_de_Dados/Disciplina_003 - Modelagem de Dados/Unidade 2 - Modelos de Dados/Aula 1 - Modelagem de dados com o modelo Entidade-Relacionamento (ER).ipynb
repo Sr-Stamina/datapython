{
 "cells": [
  {
   "cell_type": "code",
   "execution_count": 1,
   "metadata": {},
   "outputs": [
    {
     "name": "stdout",
     "output_type": "stream",
     "text": [
      "Start\n"
     ]
    }
   ],
   "source": [
    "print('Start')"
   ]
  },
  {
   "cell_type": "markdown",
   "metadata": {},
   "source": [
    "---\n",
    "# Modelagem de dados com o modelo entidade-relacionamento (ER)\n",
    "---"
   ]
  },
  {
   "cell_type": "markdown",
   "metadata": {},
   "source": [
    "### Modelo Entidade Relacionamento `M.E.R.`\n",
    "\n",
    "> - É utilizado para _descrever_ ``objetos`` do __mundo real__, através de *entidades*, com suas propriedades que são seus atribtos e relacionamentos.\n",
    "\n",
    "- As entidades representam um objeto do mundo real e que possuem uma existência independente, como:\n",
    "    - Pessoas;\n",
    "    - Empresa;\n",
    "    - Carro;\n",
    "    - Casa;\n",
    "        - entre outras coisas que podem ser representadas por uma entidade.\n",
    "\n",
    "- Os atributos descrevem as propriedades das entidades.\n",
    "    - Ex.: Entidade Pessoa possui atributos como:\n",
    "        - nome\n",
    "        - idade\n",
    "        - data de nascimento\n",
    "        - etc \n",
    "---"
   ]
  },
  {
   "cell_type": "markdown",
   "metadata": {},
   "source": []
  }
 ],
 "metadata": {
  "kernelspec": {
   "display_name": "Python 3",
   "language": "python",
   "name": "python3"
  },
  "language_info": {
   "codemirror_mode": {
    "name": "ipython",
    "version": 3
   },
   "file_extension": ".py",
   "mimetype": "text/x-python",
   "name": "python",
   "nbconvert_exporter": "python",
   "pygments_lexer": "ipython3",
   "version": "3.12.5"
  }
 },
 "nbformat": 4,
 "nbformat_minor": 2
}
