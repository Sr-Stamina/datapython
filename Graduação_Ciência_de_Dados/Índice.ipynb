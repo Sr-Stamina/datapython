{
 "cells": [
  {
   "cell_type": "markdown",
   "metadata": {},
   "source": [
    "# Aqui estarão contidas todas as disciplinas estudadas na faculdade, além de seus exercícios e projetos\n",
    "\n",
    "Linguagem de Programação\n",
    "\n",
    "[Aula 01](https://alexandria-html-published.platosedu.io/a2a2594a-a3b3-44af-b10a-f2271dcd7ce2/v1/index.html)\n",
    "\n",
    "[Aula 02](https://alexandria-html-published.platosedu.io/b0922a5f-c7e2-4053-887c-59e804986e30/v1/index.html)\n",
    "\n",
    "[Aula 03](https://alexandria-html-published.platosedu.io/a7b9ddd7-9bf7-43a9-81db-bf0f760f6c8c/v1/index.html)\n",
    "\n",
    "[Aula 04](https://alexandria-html-published.platosedu.io/bb227e38-47b6-4b07-9085-b94eeefff234/v1/index.html)\n",
    "\n",
    "![Aula 01](https://alexandria-html-published.platosedu.io/a2a2594a-a3b3-44af-b10a-f2271dcd7ce2/v1/index.html)"
   ]
  },
  {
   "cell_type": "code",
   "execution_count": null,
   "metadata": {},
   "outputs": [],
   "source": []
  }
 ],
 "metadata": {
  "language_info": {
   "name": "python"
  }
 },
 "nbformat": 4,
 "nbformat_minor": 2
}
