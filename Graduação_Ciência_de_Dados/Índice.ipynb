{
 "cells": [
  {
   "cell_type": "markdown",
   "metadata": {},
   "source": [
    "# Aqui estarão contidas todas as disciplinas estudadas na faculdade, além de seus exercícios e projetos\n",
    "\n",
    "# O simples\n",
    "print('Continue a nadar, nadar, nadar!')\n",
    "\n",
    "# Código que não faz sentido? -> \"Complicando\" o print\n",
    "n = ('nadar')\n",
    "print(f\"Continue a {n}, {n}, {n}!\")"
   ]
  },
  {
   "cell_type": "code",
   "execution_count": 6,
   "metadata": {},
   "outputs": [
    {
     "name": "stdout",
     "output_type": "stream",
     "text": [
      "Continue a nadar, nadar, nadar!\n",
      "Continue a nadar, nadar, nadar!\n"
     ]
    }
   ],
   "source": [
    "# O simples\n",
    "print('Continue a nadar, nadar, nadar!')\n",
    "\n",
    "# Código que não faz sentido? -> \"Complicando\" o print\n",
    "n = ('nadar')\n",
    "print(f\"Continue a {n}, {n}, {n}!\")"
   ]
  }
 ],
 "metadata": {
  "kernelspec": {
   "display_name": "Python 3",
   "language": "python",
   "name": "python3"
  },
  "language_info": {
   "codemirror_mode": {
    "name": "ipython",
    "version": 3
   },
   "file_extension": ".py",
   "mimetype": "text/x-python",
   "name": "python",
   "nbconvert_exporter": "python",
   "pygments_lexer": "ipython3",
   "version": "3.12.1"
  }
 },
 "nbformat": 4,
 "nbformat_minor": 2
}
